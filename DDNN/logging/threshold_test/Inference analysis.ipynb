{
 "cells": [
  {
   "cell_type": "code",
   "execution_count": 34,
   "metadata": {},
   "outputs": [],
   "source": [
    "import pandas as pd\n",
    "import seaborn as sns; sns.set('notebook')\n",
    "import matplotlib.pyplot as plt\n",
    "params = {'legend.fontsize': 'large',\n",
    "          'figure.figsize': (16, 9),\n",
    "         'axes.labelsize': 'large',\n",
    "         'axes.titlesize':'x-large',\n",
    "         'xtick.labelsize':'medium',\n",
    "         'ytick.labelsize':'medium'}\n",
    "plt.rcParams.update(params)"
   ]
  },
  {
   "cell_type": "code",
   "execution_count": 50,
   "metadata": {
    "scrolled": true
   },
   "outputs": [
    {
     "data": {
      "text/plain": [
       "exit           0.973000\n",
       "prediction    48.845000\n",
       "target        49.500000\n",
       "correct        0.823600\n",
       "score          0.824121\n",
       "time           0.031988\n",
       "dtype: float64"
      ]
     },
     "execution_count": 50,
     "metadata": {},
     "output_type": "execute_result"
    }
   ],
   "source": [
    "df = pd.read_csv('densenet_inference_test.csv', index_col=0)\n",
    "df.mean()"
   ]
  },
  {
   "cell_type": "code",
   "execution_count": 51,
   "metadata": {},
   "outputs": [],
   "source": [
    "data = df.to_numpy()"
   ]
  },
  {
   "cell_type": "code",
   "execution_count": 52,
   "metadata": {},
   "outputs": [],
   "source": [
    "df = pd.DataFrame(data[1:], columns=['exit', 'prediction', 'target', 'correct', 'score', 'time'])"
   ]
  },
  {
   "cell_type": "code",
   "execution_count": 53,
   "metadata": {},
   "outputs": [
    {
     "data": {
      "text/plain": [
       "exit           0.973195\n",
       "prediction    48.854771\n",
       "target        49.509902\n",
       "correct        0.823565\n",
       "score          0.824153\n",
       "time           0.031801\n",
       "dtype: float64"
      ]
     },
     "execution_count": 53,
     "metadata": {},
     "output_type": "execute_result"
    }
   ],
   "source": [
    "df.mean()"
   ]
  },
  {
   "cell_type": "code",
   "execution_count": 54,
   "metadata": {},
   "outputs": [
    {
     "data": {
      "text/plain": [
       "1725"
      ]
     },
     "execution_count": 54,
     "metadata": {},
     "output_type": "execute_result"
    }
   ],
   "source": [
    "len(df.loc[df['exit']==0])"
   ]
  },
  {
   "cell_type": "code",
   "execution_count": 40,
   "metadata": {},
   "outputs": [
    {
     "data": {
      "text/plain": [
       "219"
      ]
     },
     "execution_count": 40,
     "metadata": {},
     "output_type": "execute_result"
    }
   ],
   "source": [
    "len(df.loc[(df['exit']==0) & (df['correct'] == False)])"
   ]
  },
  {
   "cell_type": "code",
   "execution_count": 41,
   "metadata": {},
   "outputs": [
    {
     "data": {
      "text/plain": [
       "2072"
      ]
     },
     "execution_count": 41,
     "metadata": {},
     "output_type": "execute_result"
    }
   ],
   "source": [
    "len(df.loc[df['exit']==1])"
   ]
  },
  {
   "cell_type": "code",
   "execution_count": 42,
   "metadata": {},
   "outputs": [
    {
     "data": {
      "text/plain": [
       "813"
      ]
     },
     "execution_count": 42,
     "metadata": {},
     "output_type": "execute_result"
    }
   ],
   "source": [
    "len(df.loc[df['exit']==2])"
   ]
  },
  {
   "cell_type": "code",
   "execution_count": 49,
   "metadata": {},
   "outputs": [
    {
     "data": {
      "text/plain": [
       "389"
      ]
     },
     "execution_count": 49,
     "metadata": {},
     "output_type": "execute_result"
    }
   ],
   "source": [
    "len(df.loc[df['exit']==3])"
   ]
  },
  {
   "cell_type": "code",
   "execution_count": 44,
   "metadata": {},
   "outputs": [
    {
     "data": {
      "text/plain": [
       "177"
      ]
     },
     "execution_count": 44,
     "metadata": {},
     "output_type": "execute_result"
    }
   ],
   "source": [
    "len(df.loc[(df['exit']==3) & (df['correct'] == False)])"
   ]
  },
  {
   "cell_type": "code",
   "execution_count": 45,
   "metadata": {},
   "outputs": [
    {
     "data": {
      "text/plain": [
       "882"
      ]
     },
     "execution_count": 45,
     "metadata": {},
     "output_type": "execute_result"
    }
   ],
   "source": [
    "len(df.loc[(df['correct'] == False)])"
   ]
  },
  {
   "cell_type": "markdown",
   "metadata": {},
   "source": [
    "# ResNet"
   ]
  },
  {
   "cell_type": "code",
   "execution_count": 97,
   "metadata": {
    "scrolled": true
   },
   "outputs": [
    {
     "data": {
      "text/html": [
       "<div>\n",
       "<style scoped>\n",
       "    .dataframe tbody tr th:only-of-type {\n",
       "        vertical-align: middle;\n",
       "    }\n",
       "\n",
       "    .dataframe tbody tr th {\n",
       "        vertical-align: top;\n",
       "    }\n",
       "\n",
       "    .dataframe thead th {\n",
       "        text-align: right;\n",
       "    }\n",
       "</style>\n",
       "<table border=\"1\" class=\"dataframe\">\n",
       "  <thead>\n",
       "    <tr style=\"text-align: right;\">\n",
       "      <th></th>\n",
       "      <th>exit</th>\n",
       "      <th>prediction</th>\n",
       "      <th>target</th>\n",
       "      <th>correct</th>\n",
       "      <th>score_margin</th>\n",
       "      <th>time</th>\n",
       "    </tr>\n",
       "  </thead>\n",
       "  <tbody>\n",
       "    <tr>\n",
       "      <th>0</th>\n",
       "      <td>0</td>\n",
       "      <td>0</td>\n",
       "      <td>0</td>\n",
       "      <td>True</td>\n",
       "      <td>8.132140e-01</td>\n",
       "      <td>1.024548</td>\n",
       "    </tr>\n",
       "    <tr>\n",
       "      <th>1</th>\n",
       "      <td>0</td>\n",
       "      <td>0</td>\n",
       "      <td>0</td>\n",
       "      <td>True</td>\n",
       "      <td>7.378436e-01</td>\n",
       "      <td>0.011540</td>\n",
       "    </tr>\n",
       "    <tr>\n",
       "      <th>2</th>\n",
       "      <td>0</td>\n",
       "      <td>0</td>\n",
       "      <td>0</td>\n",
       "      <td>True</td>\n",
       "      <td>9.669983e-01</td>\n",
       "      <td>0.009286</td>\n",
       "    </tr>\n",
       "    <tr>\n",
       "      <th>3</th>\n",
       "      <td>1</td>\n",
       "      <td>0</td>\n",
       "      <td>0</td>\n",
       "      <td>True</td>\n",
       "      <td>9.994855e-01</td>\n",
       "      <td>0.015834</td>\n",
       "    </tr>\n",
       "    <tr>\n",
       "      <th>4</th>\n",
       "      <td>0</td>\n",
       "      <td>0</td>\n",
       "      <td>0</td>\n",
       "      <td>True</td>\n",
       "      <td>9.558655e-01</td>\n",
       "      <td>0.008521</td>\n",
       "    </tr>\n",
       "    <tr>\n",
       "      <th>5</th>\n",
       "      <td>0</td>\n",
       "      <td>0</td>\n",
       "      <td>0</td>\n",
       "      <td>True</td>\n",
       "      <td>9.613327e-01</td>\n",
       "      <td>0.009504</td>\n",
       "    </tr>\n",
       "    <tr>\n",
       "      <th>6</th>\n",
       "      <td>0</td>\n",
       "      <td>0</td>\n",
       "      <td>0</td>\n",
       "      <td>True</td>\n",
       "      <td>9.993995e-01</td>\n",
       "      <td>0.010160</td>\n",
       "    </tr>\n",
       "    <tr>\n",
       "      <th>7</th>\n",
       "      <td>0</td>\n",
       "      <td>0</td>\n",
       "      <td>0</td>\n",
       "      <td>True</td>\n",
       "      <td>9.994578e-01</td>\n",
       "      <td>0.009778</td>\n",
       "    </tr>\n",
       "    <tr>\n",
       "      <th>8</th>\n",
       "      <td>1</td>\n",
       "      <td>0</td>\n",
       "      <td>0</td>\n",
       "      <td>True</td>\n",
       "      <td>9.925367e-01</td>\n",
       "      <td>0.016044</td>\n",
       "    </tr>\n",
       "    <tr>\n",
       "      <th>9</th>\n",
       "      <td>3</td>\n",
       "      <td>0</td>\n",
       "      <td>0</td>\n",
       "      <td>True</td>\n",
       "      <td>9.235249e-01</td>\n",
       "      <td>0.031578</td>\n",
       "    </tr>\n",
       "    <tr>\n",
       "      <th>10</th>\n",
       "      <td>0</td>\n",
       "      <td>0</td>\n",
       "      <td>0</td>\n",
       "      <td>True</td>\n",
       "      <td>9.995117e-01</td>\n",
       "      <td>0.008354</td>\n",
       "    </tr>\n",
       "    <tr>\n",
       "      <th>11</th>\n",
       "      <td>0</td>\n",
       "      <td>0</td>\n",
       "      <td>0</td>\n",
       "      <td>True</td>\n",
       "      <td>5.311173e-01</td>\n",
       "      <td>0.010189</td>\n",
       "    </tr>\n",
       "    <tr>\n",
       "      <th>12</th>\n",
       "      <td>0</td>\n",
       "      <td>0</td>\n",
       "      <td>0</td>\n",
       "      <td>True</td>\n",
       "      <td>9.996386e-01</td>\n",
       "      <td>0.009275</td>\n",
       "    </tr>\n",
       "    <tr>\n",
       "      <th>13</th>\n",
       "      <td>0</td>\n",
       "      <td>0</td>\n",
       "      <td>0</td>\n",
       "      <td>True</td>\n",
       "      <td>9.566656e-01</td>\n",
       "      <td>0.009402</td>\n",
       "    </tr>\n",
       "    <tr>\n",
       "      <th>14</th>\n",
       "      <td>0</td>\n",
       "      <td>0</td>\n",
       "      <td>0</td>\n",
       "      <td>True</td>\n",
       "      <td>7.491058e-01</td>\n",
       "      <td>0.009542</td>\n",
       "    </tr>\n",
       "    <tr>\n",
       "      <th>15</th>\n",
       "      <td>0</td>\n",
       "      <td>0</td>\n",
       "      <td>0</td>\n",
       "      <td>True</td>\n",
       "      <td>9.666790e-01</td>\n",
       "      <td>0.008977</td>\n",
       "    </tr>\n",
       "    <tr>\n",
       "      <th>16</th>\n",
       "      <td>1</td>\n",
       "      <td>0</td>\n",
       "      <td>0</td>\n",
       "      <td>True</td>\n",
       "      <td>9.961393e-01</td>\n",
       "      <td>0.017135</td>\n",
       "    </tr>\n",
       "    <tr>\n",
       "      <th>17</th>\n",
       "      <td>0</td>\n",
       "      <td>0</td>\n",
       "      <td>0</td>\n",
       "      <td>True</td>\n",
       "      <td>6.504556e-01</td>\n",
       "      <td>0.008447</td>\n",
       "    </tr>\n",
       "    <tr>\n",
       "      <th>18</th>\n",
       "      <td>0</td>\n",
       "      <td>0</td>\n",
       "      <td>0</td>\n",
       "      <td>True</td>\n",
       "      <td>9.602259e-01</td>\n",
       "      <td>0.010680</td>\n",
       "    </tr>\n",
       "    <tr>\n",
       "      <th>19</th>\n",
       "      <td>2</td>\n",
       "      <td>0</td>\n",
       "      <td>0</td>\n",
       "      <td>True</td>\n",
       "      <td>8.823973e-01</td>\n",
       "      <td>0.024428</td>\n",
       "    </tr>\n",
       "    <tr>\n",
       "      <th>20</th>\n",
       "      <td>0</td>\n",
       "      <td>0</td>\n",
       "      <td>0</td>\n",
       "      <td>True</td>\n",
       "      <td>9.876688e-01</td>\n",
       "      <td>0.008390</td>\n",
       "    </tr>\n",
       "    <tr>\n",
       "      <th>21</th>\n",
       "      <td>0</td>\n",
       "      <td>0</td>\n",
       "      <td>0</td>\n",
       "      <td>True</td>\n",
       "      <td>9.426128e-01</td>\n",
       "      <td>0.010579</td>\n",
       "    </tr>\n",
       "    <tr>\n",
       "      <th>22</th>\n",
       "      <td>0</td>\n",
       "      <td>0</td>\n",
       "      <td>0</td>\n",
       "      <td>True</td>\n",
       "      <td>9.871501e-01</td>\n",
       "      <td>0.008359</td>\n",
       "    </tr>\n",
       "    <tr>\n",
       "      <th>23</th>\n",
       "      <td>1</td>\n",
       "      <td>0</td>\n",
       "      <td>0</td>\n",
       "      <td>True</td>\n",
       "      <td>9.931618e-01</td>\n",
       "      <td>0.016524</td>\n",
       "    </tr>\n",
       "    <tr>\n",
       "      <th>24</th>\n",
       "      <td>0</td>\n",
       "      <td>0</td>\n",
       "      <td>0</td>\n",
       "      <td>True</td>\n",
       "      <td>9.876479e-01</td>\n",
       "      <td>0.010081</td>\n",
       "    </tr>\n",
       "    <tr>\n",
       "      <th>25</th>\n",
       "      <td>0</td>\n",
       "      <td>0</td>\n",
       "      <td>0</td>\n",
       "      <td>True</td>\n",
       "      <td>8.526317e-01</td>\n",
       "      <td>0.009310</td>\n",
       "    </tr>\n",
       "    <tr>\n",
       "      <th>26</th>\n",
       "      <td>2</td>\n",
       "      <td>0</td>\n",
       "      <td>0</td>\n",
       "      <td>True</td>\n",
       "      <td>8.220713e-01</td>\n",
       "      <td>0.023757</td>\n",
       "    </tr>\n",
       "    <tr>\n",
       "      <th>27</th>\n",
       "      <td>1</td>\n",
       "      <td>0</td>\n",
       "      <td>0</td>\n",
       "      <td>True</td>\n",
       "      <td>5.173825e-01</td>\n",
       "      <td>0.015527</td>\n",
       "    </tr>\n",
       "    <tr>\n",
       "      <th>28</th>\n",
       "      <td>0</td>\n",
       "      <td>0</td>\n",
       "      <td>0</td>\n",
       "      <td>True</td>\n",
       "      <td>8.385295e-01</td>\n",
       "      <td>0.008958</td>\n",
       "    </tr>\n",
       "    <tr>\n",
       "      <th>29</th>\n",
       "      <td>0</td>\n",
       "      <td>0</td>\n",
       "      <td>0</td>\n",
       "      <td>True</td>\n",
       "      <td>9.983076e-01</td>\n",
       "      <td>0.008899</td>\n",
       "    </tr>\n",
       "    <tr>\n",
       "      <th>...</th>\n",
       "      <td>...</td>\n",
       "      <td>...</td>\n",
       "      <td>...</td>\n",
       "      <td>...</td>\n",
       "      <td>...</td>\n",
       "      <td>...</td>\n",
       "    </tr>\n",
       "    <tr>\n",
       "      <th>4970</th>\n",
       "      <td>3</td>\n",
       "      <td>99</td>\n",
       "      <td>99</td>\n",
       "      <td>True</td>\n",
       "      <td>4.932575e-07</td>\n",
       "      <td>0.027363</td>\n",
       "    </tr>\n",
       "    <tr>\n",
       "      <th>4971</th>\n",
       "      <td>3</td>\n",
       "      <td>99</td>\n",
       "      <td>99</td>\n",
       "      <td>True</td>\n",
       "      <td>2.316375e-08</td>\n",
       "      <td>0.027033</td>\n",
       "    </tr>\n",
       "    <tr>\n",
       "      <th>4972</th>\n",
       "      <td>3</td>\n",
       "      <td>70</td>\n",
       "      <td>99</td>\n",
       "      <td>False</td>\n",
       "      <td>4.594599e-04</td>\n",
       "      <td>0.026410</td>\n",
       "    </tr>\n",
       "    <tr>\n",
       "      <th>4973</th>\n",
       "      <td>3</td>\n",
       "      <td>99</td>\n",
       "      <td>99</td>\n",
       "      <td>True</td>\n",
       "      <td>2.632526e-10</td>\n",
       "      <td>0.026007</td>\n",
       "    </tr>\n",
       "    <tr>\n",
       "      <th>4974</th>\n",
       "      <td>3</td>\n",
       "      <td>99</td>\n",
       "      <td>99</td>\n",
       "      <td>True</td>\n",
       "      <td>2.015585e-12</td>\n",
       "      <td>0.025605</td>\n",
       "    </tr>\n",
       "    <tr>\n",
       "      <th>4975</th>\n",
       "      <td>3</td>\n",
       "      <td>99</td>\n",
       "      <td>99</td>\n",
       "      <td>True</td>\n",
       "      <td>5.741686e-08</td>\n",
       "      <td>0.028632</td>\n",
       "    </tr>\n",
       "    <tr>\n",
       "      <th>4976</th>\n",
       "      <td>3</td>\n",
       "      <td>99</td>\n",
       "      <td>99</td>\n",
       "      <td>True</td>\n",
       "      <td>2.563927e-07</td>\n",
       "      <td>0.026230</td>\n",
       "    </tr>\n",
       "    <tr>\n",
       "      <th>4977</th>\n",
       "      <td>3</td>\n",
       "      <td>99</td>\n",
       "      <td>99</td>\n",
       "      <td>True</td>\n",
       "      <td>6.890596e-13</td>\n",
       "      <td>0.029068</td>\n",
       "    </tr>\n",
       "    <tr>\n",
       "      <th>4978</th>\n",
       "      <td>3</td>\n",
       "      <td>99</td>\n",
       "      <td>99</td>\n",
       "      <td>True</td>\n",
       "      <td>2.715077e-06</td>\n",
       "      <td>0.026558</td>\n",
       "    </tr>\n",
       "    <tr>\n",
       "      <th>4979</th>\n",
       "      <td>3</td>\n",
       "      <td>76</td>\n",
       "      <td>99</td>\n",
       "      <td>False</td>\n",
       "      <td>1.181594e-06</td>\n",
       "      <td>0.029834</td>\n",
       "    </tr>\n",
       "    <tr>\n",
       "      <th>4980</th>\n",
       "      <td>3</td>\n",
       "      <td>99</td>\n",
       "      <td>99</td>\n",
       "      <td>True</td>\n",
       "      <td>1.114982e-07</td>\n",
       "      <td>0.029122</td>\n",
       "    </tr>\n",
       "    <tr>\n",
       "      <th>4981</th>\n",
       "      <td>3</td>\n",
       "      <td>99</td>\n",
       "      <td>99</td>\n",
       "      <td>True</td>\n",
       "      <td>6.540002e-11</td>\n",
       "      <td>0.025546</td>\n",
       "    </tr>\n",
       "    <tr>\n",
       "      <th>4982</th>\n",
       "      <td>3</td>\n",
       "      <td>17</td>\n",
       "      <td>99</td>\n",
       "      <td>False</td>\n",
       "      <td>1.644927e-04</td>\n",
       "      <td>0.029390</td>\n",
       "    </tr>\n",
       "    <tr>\n",
       "      <th>4983</th>\n",
       "      <td>3</td>\n",
       "      <td>99</td>\n",
       "      <td>99</td>\n",
       "      <td>True</td>\n",
       "      <td>1.544104e-07</td>\n",
       "      <td>0.028963</td>\n",
       "    </tr>\n",
       "    <tr>\n",
       "      <th>4984</th>\n",
       "      <td>3</td>\n",
       "      <td>99</td>\n",
       "      <td>99</td>\n",
       "      <td>True</td>\n",
       "      <td>2.506768e-06</td>\n",
       "      <td>0.030450</td>\n",
       "    </tr>\n",
       "    <tr>\n",
       "      <th>4985</th>\n",
       "      <td>3</td>\n",
       "      <td>99</td>\n",
       "      <td>99</td>\n",
       "      <td>True</td>\n",
       "      <td>1.743109e-05</td>\n",
       "      <td>0.025438</td>\n",
       "    </tr>\n",
       "    <tr>\n",
       "      <th>4986</th>\n",
       "      <td>3</td>\n",
       "      <td>99</td>\n",
       "      <td>99</td>\n",
       "      <td>True</td>\n",
       "      <td>5.174932e-08</td>\n",
       "      <td>0.029376</td>\n",
       "    </tr>\n",
       "    <tr>\n",
       "      <th>4987</th>\n",
       "      <td>3</td>\n",
       "      <td>6</td>\n",
       "      <td>99</td>\n",
       "      <td>False</td>\n",
       "      <td>2.251632e-07</td>\n",
       "      <td>0.026374</td>\n",
       "    </tr>\n",
       "    <tr>\n",
       "      <th>4988</th>\n",
       "      <td>3</td>\n",
       "      <td>99</td>\n",
       "      <td>99</td>\n",
       "      <td>True</td>\n",
       "      <td>1.676401e-07</td>\n",
       "      <td>0.029359</td>\n",
       "    </tr>\n",
       "    <tr>\n",
       "      <th>4989</th>\n",
       "      <td>3</td>\n",
       "      <td>99</td>\n",
       "      <td>99</td>\n",
       "      <td>True</td>\n",
       "      <td>1.023735e-06</td>\n",
       "      <td>0.026980</td>\n",
       "    </tr>\n",
       "    <tr>\n",
       "      <th>4990</th>\n",
       "      <td>3</td>\n",
       "      <td>99</td>\n",
       "      <td>99</td>\n",
       "      <td>True</td>\n",
       "      <td>8.231971e-11</td>\n",
       "      <td>0.030044</td>\n",
       "    </tr>\n",
       "    <tr>\n",
       "      <th>4991</th>\n",
       "      <td>3</td>\n",
       "      <td>99</td>\n",
       "      <td>99</td>\n",
       "      <td>True</td>\n",
       "      <td>7.845094e-12</td>\n",
       "      <td>0.025488</td>\n",
       "    </tr>\n",
       "    <tr>\n",
       "      <th>4992</th>\n",
       "      <td>3</td>\n",
       "      <td>99</td>\n",
       "      <td>99</td>\n",
       "      <td>True</td>\n",
       "      <td>6.854344e-05</td>\n",
       "      <td>0.024035</td>\n",
       "    </tr>\n",
       "    <tr>\n",
       "      <th>4993</th>\n",
       "      <td>3</td>\n",
       "      <td>99</td>\n",
       "      <td>99</td>\n",
       "      <td>True</td>\n",
       "      <td>4.754249e-08</td>\n",
       "      <td>0.024467</td>\n",
       "    </tr>\n",
       "    <tr>\n",
       "      <th>4994</th>\n",
       "      <td>3</td>\n",
       "      <td>99</td>\n",
       "      <td>99</td>\n",
       "      <td>True</td>\n",
       "      <td>2.534247e-10</td>\n",
       "      <td>0.025412</td>\n",
       "    </tr>\n",
       "    <tr>\n",
       "      <th>4995</th>\n",
       "      <td>3</td>\n",
       "      <td>99</td>\n",
       "      <td>99</td>\n",
       "      <td>True</td>\n",
       "      <td>5.183546e-10</td>\n",
       "      <td>0.024130</td>\n",
       "    </tr>\n",
       "    <tr>\n",
       "      <th>4996</th>\n",
       "      <td>3</td>\n",
       "      <td>99</td>\n",
       "      <td>99</td>\n",
       "      <td>True</td>\n",
       "      <td>7.888013e-07</td>\n",
       "      <td>0.024226</td>\n",
       "    </tr>\n",
       "    <tr>\n",
       "      <th>4997</th>\n",
       "      <td>3</td>\n",
       "      <td>99</td>\n",
       "      <td>99</td>\n",
       "      <td>True</td>\n",
       "      <td>4.466463e-07</td>\n",
       "      <td>0.026616</td>\n",
       "    </tr>\n",
       "    <tr>\n",
       "      <th>4998</th>\n",
       "      <td>3</td>\n",
       "      <td>99</td>\n",
       "      <td>99</td>\n",
       "      <td>True</td>\n",
       "      <td>2.764536e-14</td>\n",
       "      <td>0.026091</td>\n",
       "    </tr>\n",
       "    <tr>\n",
       "      <th>4999</th>\n",
       "      <td>3</td>\n",
       "      <td>99</td>\n",
       "      <td>99</td>\n",
       "      <td>True</td>\n",
       "      <td>2.796674e-06</td>\n",
       "      <td>0.026104</td>\n",
       "    </tr>\n",
       "  </tbody>\n",
       "</table>\n",
       "<p>5000 rows × 6 columns</p>\n",
       "</div>"
      ],
      "text/plain": [
       "      exit  prediction  target  correct  score_margin      time\n",
       "0        0           0       0     True  8.132140e-01  1.024548\n",
       "1        0           0       0     True  7.378436e-01  0.011540\n",
       "2        0           0       0     True  9.669983e-01  0.009286\n",
       "3        1           0       0     True  9.994855e-01  0.015834\n",
       "4        0           0       0     True  9.558655e-01  0.008521\n",
       "5        0           0       0     True  9.613327e-01  0.009504\n",
       "6        0           0       0     True  9.993995e-01  0.010160\n",
       "7        0           0       0     True  9.994578e-01  0.009778\n",
       "8        1           0       0     True  9.925367e-01  0.016044\n",
       "9        3           0       0     True  9.235249e-01  0.031578\n",
       "10       0           0       0     True  9.995117e-01  0.008354\n",
       "11       0           0       0     True  5.311173e-01  0.010189\n",
       "12       0           0       0     True  9.996386e-01  0.009275\n",
       "13       0           0       0     True  9.566656e-01  0.009402\n",
       "14       0           0       0     True  7.491058e-01  0.009542\n",
       "15       0           0       0     True  9.666790e-01  0.008977\n",
       "16       1           0       0     True  9.961393e-01  0.017135\n",
       "17       0           0       0     True  6.504556e-01  0.008447\n",
       "18       0           0       0     True  9.602259e-01  0.010680\n",
       "19       2           0       0     True  8.823973e-01  0.024428\n",
       "20       0           0       0     True  9.876688e-01  0.008390\n",
       "21       0           0       0     True  9.426128e-01  0.010579\n",
       "22       0           0       0     True  9.871501e-01  0.008359\n",
       "23       1           0       0     True  9.931618e-01  0.016524\n",
       "24       0           0       0     True  9.876479e-01  0.010081\n",
       "25       0           0       0     True  8.526317e-01  0.009310\n",
       "26       2           0       0     True  8.220713e-01  0.023757\n",
       "27       1           0       0     True  5.173825e-01  0.015527\n",
       "28       0           0       0     True  8.385295e-01  0.008958\n",
       "29       0           0       0     True  9.983076e-01  0.008899\n",
       "...    ...         ...     ...      ...           ...       ...\n",
       "4970     3          99      99     True  4.932575e-07  0.027363\n",
       "4971     3          99      99     True  2.316375e-08  0.027033\n",
       "4972     3          70      99    False  4.594599e-04  0.026410\n",
       "4973     3          99      99     True  2.632526e-10  0.026007\n",
       "4974     3          99      99     True  2.015585e-12  0.025605\n",
       "4975     3          99      99     True  5.741686e-08  0.028632\n",
       "4976     3          99      99     True  2.563927e-07  0.026230\n",
       "4977     3          99      99     True  6.890596e-13  0.029068\n",
       "4978     3          99      99     True  2.715077e-06  0.026558\n",
       "4979     3          76      99    False  1.181594e-06  0.029834\n",
       "4980     3          99      99     True  1.114982e-07  0.029122\n",
       "4981     3          99      99     True  6.540002e-11  0.025546\n",
       "4982     3          17      99    False  1.644927e-04  0.029390\n",
       "4983     3          99      99     True  1.544104e-07  0.028963\n",
       "4984     3          99      99     True  2.506768e-06  0.030450\n",
       "4985     3          99      99     True  1.743109e-05  0.025438\n",
       "4986     3          99      99     True  5.174932e-08  0.029376\n",
       "4987     3           6      99    False  2.251632e-07  0.026374\n",
       "4988     3          99      99     True  1.676401e-07  0.029359\n",
       "4989     3          99      99     True  1.023735e-06  0.026980\n",
       "4990     3          99      99     True  8.231971e-11  0.030044\n",
       "4991     3          99      99     True  7.845094e-12  0.025488\n",
       "4992     3          99      99     True  6.854344e-05  0.024035\n",
       "4993     3          99      99     True  4.754249e-08  0.024467\n",
       "4994     3          99      99     True  2.534247e-10  0.025412\n",
       "4995     3          99      99     True  5.183546e-10  0.024130\n",
       "4996     3          99      99     True  7.888013e-07  0.024226\n",
       "4997     3          99      99     True  4.466463e-07  0.026616\n",
       "4998     3          99      99     True  2.764536e-14  0.026091\n",
       "4999     3          99      99     True  2.796674e-06  0.026104\n",
       "\n",
       "[5000 rows x 6 columns]"
      ]
     },
     "execution_count": 97,
     "metadata": {},
     "output_type": "execute_result"
    }
   ],
   "source": [
    "df = pd.read_csv('resnet100_inference_test.csv', index_col=0)\n",
    "df"
   ]
  },
  {
   "cell_type": "code",
   "execution_count": 87,
   "metadata": {},
   "outputs": [],
   "source": [
    "data = df.to_numpy()"
   ]
  },
  {
   "cell_type": "code",
   "execution_count": 88,
   "metadata": {},
   "outputs": [],
   "source": [
    "df = pd.DataFrame(data[1:], columns=['exit', 'prediction', 'target', 'correct', 'score', 'time'])"
   ]
  },
  {
   "cell_type": "code",
   "execution_count": 89,
   "metadata": {},
   "outputs": [
    {
     "data": {
      "text/plain": [
       "exit           2.972194\n",
       "prediction    49.028606\n",
       "target        49.509902\n",
       "correct        0.878576\n",
       "score          0.010134\n",
       "time           0.027328\n",
       "dtype: float64"
      ]
     },
     "execution_count": 89,
     "metadata": {},
     "output_type": "execute_result"
    }
   ],
   "source": [
    "df.mean()"
   ]
  },
  {
   "cell_type": "code",
   "execution_count": 90,
   "metadata": {},
   "outputs": [
    {
     "data": {
      "text/plain": [
       "38"
      ]
     },
     "execution_count": 90,
     "metadata": {},
     "output_type": "execute_result"
    }
   ],
   "source": [
    "len(df.loc[df['exit']==0])"
   ]
  },
  {
   "cell_type": "code",
   "execution_count": 91,
   "metadata": {},
   "outputs": [
    {
     "data": {
      "text/plain": [
       "3"
      ]
     },
     "execution_count": 91,
     "metadata": {},
     "output_type": "execute_result"
    }
   ],
   "source": [
    "len(df.loc[(df['exit']==0) & (df['correct'] == False)])"
   ]
  },
  {
   "cell_type": "code",
   "execution_count": 92,
   "metadata": {},
   "outputs": [
    {
     "data": {
      "text/plain": [
       "10"
      ]
     },
     "execution_count": 92,
     "metadata": {},
     "output_type": "execute_result"
    }
   ],
   "source": [
    "len(df.loc[df['exit']==1])"
   ]
  },
  {
   "cell_type": "code",
   "execution_count": 93,
   "metadata": {},
   "outputs": [
    {
     "data": {
      "text/plain": [
       "5"
      ]
     },
     "execution_count": 93,
     "metadata": {},
     "output_type": "execute_result"
    }
   ],
   "source": [
    "len(df.loc[df['exit']==2])"
   ]
  },
  {
   "cell_type": "code",
   "execution_count": 94,
   "metadata": {},
   "outputs": [
    {
     "data": {
      "text/plain": [
       "4946"
      ]
     },
     "execution_count": 94,
     "metadata": {},
     "output_type": "execute_result"
    }
   ],
   "source": [
    "len(df.loc[df['exit']==3])"
   ]
  },
  {
   "cell_type": "code",
   "execution_count": 95,
   "metadata": {},
   "outputs": [
    {
     "data": {
      "text/plain": [
       "602"
      ]
     },
     "execution_count": 95,
     "metadata": {},
     "output_type": "execute_result"
    }
   ],
   "source": [
    "len(df.loc[(df['exit']==3) & (df['correct'] == False)])"
   ]
  },
  {
   "cell_type": "code",
   "execution_count": 96,
   "metadata": {},
   "outputs": [
    {
     "data": {
      "text/plain": [
       "607"
      ]
     },
     "execution_count": 96,
     "metadata": {},
     "output_type": "execute_result"
    }
   ],
   "source": [
    "len(df.loc[(df['correct'] == False)])"
   ]
  },
  {
   "cell_type": "code",
   "execution_count": null,
   "metadata": {},
   "outputs": [],
   "source": []
  }
 ],
 "metadata": {
  "kernelspec": {
   "display_name": "Python 3",
   "language": "python",
   "name": "python3"
  },
  "language_info": {
   "codemirror_mode": {
    "name": "ipython",
    "version": 3
   },
   "file_extension": ".py",
   "mimetype": "text/x-python",
   "name": "python",
   "nbconvert_exporter": "python",
   "pygments_lexer": "ipython3",
   "version": "3.7.3"
  }
 },
 "nbformat": 4,
 "nbformat_minor": 2
}
