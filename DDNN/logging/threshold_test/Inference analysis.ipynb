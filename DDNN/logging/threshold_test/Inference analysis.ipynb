{
 "cells": [
  {
   "cell_type": "code",
   "execution_count": 74,
   "metadata": {},
   "outputs": [],
   "source": [
    "import pandas as pd\n",
    "import numpy as np\n",
    "import seaborn as sns; sns.set('notebook')\n",
    "import matplotlib.pyplot as plt\n",
    "params = {'legend.fontsize': 'large',\n",
    "          'figure.figsize': (16, 9),\n",
    "         'axes.labelsize': 'large',\n",
    "         'axes.titlesize':'x-large',\n",
    "         'xtick.labelsize':'medium',\n",
    "         'ytick.labelsize':'medium'}\n",
    "plt.rcParams.update(params)"
   ]
  },
  {
   "cell_type": "code",
   "execution_count": 75,
   "metadata": {
    "scrolled": true
   },
   "outputs": [
    {
     "data": {
      "text/plain": [
       "0.04220325983999915"
      ]
     },
     "execution_count": 75,
     "metadata": {},
     "output_type": "execute_result"
    }
   ],
   "source": [
    "ee_dense = pd.read_csv('densenet_all_inference_test.csv', index_col=0)\n",
    "co_dense = pd.read_csv('dense_conv_inference_test.csv', index_col=0)\n",
    "ee_dense.loc[ee_dense['threshold']==0.9].time.mean()"
   ]
  },
  {
   "cell_type": "code",
   "execution_count": 76,
   "metadata": {},
   "outputs": [],
   "source": [
    "ee_dense = ee_dense.to_numpy()"
   ]
  },
  {
   "cell_type": "code",
   "execution_count": 77,
   "metadata": {},
   "outputs": [],
   "source": [
    "ee_dense = pd.DataFrame(ee_dense[1:], columns=['threshold', 'exit', 'prediction', 'target', 'correct', 'score', 'time'])"
   ]
  },
  {
   "cell_type": "code",
   "execution_count": 78,
   "metadata": {},
   "outputs": [
    {
     "data": {
      "text/plain": [
       "threshold      0.500009\n",
       "exit           0.953377\n",
       "prediction    48.892442\n",
       "target        49.501100\n",
       "correct        0.800329\n",
       "score          0.785513\n",
       "time           0.032120\n",
       "dtype: float64"
      ]
     },
     "execution_count": 78,
     "metadata": {},
     "output_type": "execute_result"
    }
   ],
   "source": [
    "ee_dense.mean()"
   ]
  },
  {
   "cell_type": "code",
   "execution_count": 79,
   "metadata": {},
   "outputs": [
    {
     "data": {
      "text/plain": [
       "17020"
      ]
     },
     "execution_count": 79,
     "metadata": {},
     "output_type": "execute_result"
    }
   ],
   "source": [
    "len(ee_dense.loc[ee_dense['exit']==0])"
   ]
  },
  {
   "cell_type": "code",
   "execution_count": 80,
   "metadata": {},
   "outputs": [
    {
     "data": {
      "text/plain": [
       "3488"
      ]
     },
     "execution_count": 80,
     "metadata": {},
     "output_type": "execute_result"
    }
   ],
   "source": [
    "len(ee_dense.loc[(ee_dense['exit']==0) & (ee_dense['correct'] == False)])"
   ]
  },
  {
   "cell_type": "code",
   "execution_count": 81,
   "metadata": {},
   "outputs": [
    {
     "data": {
      "text/plain": [
       "17154"
      ]
     },
     "execution_count": 81,
     "metadata": {},
     "output_type": "execute_result"
    }
   ],
   "source": [
    "len(ee_dense.loc[ee_dense['exit']==1])"
   ]
  },
  {
   "cell_type": "code",
   "execution_count": 82,
   "metadata": {},
   "outputs": [
    {
     "data": {
      "text/plain": [
       "6728"
      ]
     },
     "execution_count": 82,
     "metadata": {},
     "output_type": "execute_result"
    }
   ],
   "source": [
    "len(ee_dense.loc[ee_dense['exit']==2])"
   ]
  },
  {
   "cell_type": "code",
   "execution_count": 83,
   "metadata": {},
   "outputs": [
    {
     "data": {
      "text/plain": [
       "4097"
      ]
     },
     "execution_count": 83,
     "metadata": {},
     "output_type": "execute_result"
    }
   ],
   "source": [
    "len(ee_dense.loc[ee_dense['exit']==3])"
   ]
  },
  {
   "cell_type": "code",
   "execution_count": 84,
   "metadata": {},
   "outputs": [
    {
     "data": {
      "text/plain": [
       "1759"
      ]
     },
     "execution_count": 84,
     "metadata": {},
     "output_type": "execute_result"
    }
   ],
   "source": [
    "len(ee_dense.loc[(ee_dense['exit']==3) & (ee_dense['correct'] == False)])"
   ]
  },
  {
   "cell_type": "code",
   "execution_count": 85,
   "metadata": {},
   "outputs": [
    {
     "data": {
      "text/plain": [
       "8985"
      ]
     },
     "execution_count": 85,
     "metadata": {},
     "output_type": "execute_result"
    }
   ],
   "source": [
    "len(ee_dense.loc[(ee_dense['correct'] == False)])"
   ]
  },
  {
   "cell_type": "code",
   "execution_count": 86,
   "metadata": {},
   "outputs": [
    {
     "data": {
      "text/html": [
       "<div>\n",
       "<style scoped>\n",
       "    .dataframe tbody tr th:only-of-type {\n",
       "        vertical-align: middle;\n",
       "    }\n",
       "\n",
       "    .dataframe tbody tr th {\n",
       "        vertical-align: top;\n",
       "    }\n",
       "\n",
       "    .dataframe thead th {\n",
       "        text-align: right;\n",
       "    }\n",
       "</style>\n",
       "<table border=\"1\" class=\"dataframe\">\n",
       "  <thead>\n",
       "    <tr style=\"text-align: right;\">\n",
       "      <th></th>\n",
       "      <th>Mean Accuracy</th>\n",
       "      <th>Mean Time</th>\n",
       "    </tr>\n",
       "  </thead>\n",
       "  <tbody>\n",
       "    <tr>\n",
       "      <td>0.1</td>\n",
       "      <td>0.656531</td>\n",
       "      <td>0.021872</td>\n",
       "    </tr>\n",
       "    <tr>\n",
       "      <td>0.2</td>\n",
       "      <td>0.724800</td>\n",
       "      <td>0.025096</td>\n",
       "    </tr>\n",
       "    <tr>\n",
       "      <td>0.3</td>\n",
       "      <td>0.766200</td>\n",
       "      <td>0.027767</td>\n",
       "    </tr>\n",
       "    <tr>\n",
       "      <td>0.4</td>\n",
       "      <td>0.796200</td>\n",
       "      <td>0.030118</td>\n",
       "    </tr>\n",
       "    <tr>\n",
       "      <td>0.5</td>\n",
       "      <td>0.823600</td>\n",
       "      <td>0.032195</td>\n",
       "    </tr>\n",
       "    <tr>\n",
       "      <td>0.6</td>\n",
       "      <td>0.841000</td>\n",
       "      <td>0.034569</td>\n",
       "    </tr>\n",
       "    <tr>\n",
       "      <td>0.7</td>\n",
       "      <td>0.854000</td>\n",
       "      <td>0.036443</td>\n",
       "    </tr>\n",
       "    <tr>\n",
       "      <td>0.8</td>\n",
       "      <td>0.866200</td>\n",
       "      <td>0.038817</td>\n",
       "    </tr>\n",
       "    <tr>\n",
       "      <td>0.9</td>\n",
       "      <td>0.874400</td>\n",
       "      <td>0.042203</td>\n",
       "    </tr>\n",
       "  </tbody>\n",
       "</table>\n",
       "</div>"
      ],
      "text/plain": [
       "     Mean Accuracy  Mean Time\n",
       "0.1       0.656531   0.021872\n",
       "0.2       0.724800   0.025096\n",
       "0.3       0.766200   0.027767\n",
       "0.4       0.796200   0.030118\n",
       "0.5       0.823600   0.032195\n",
       "0.6       0.841000   0.034569\n",
       "0.7       0.854000   0.036443\n",
       "0.8       0.866200   0.038817\n",
       "0.9       0.874400   0.042203"
      ]
     },
     "execution_count": 86,
     "metadata": {},
     "output_type": "execute_result"
    }
   ],
   "source": [
    "arr = []\n",
    "\n",
    "x = [0.1,0.2,0.3,0.4,0.5,0.6,0.7,0.8,0.9]\n",
    "\n",
    "for i in ee_dense.groupby(['threshold']):\n",
    "    tmp = i[1].mean()\n",
    "    arr.append((tmp.correct, tmp.time))\n",
    "\n",
    "#sns.lineplot(data=i[1].mean().correct)\n",
    "ee_dense_stats = pd.DataFrame(arr, columns=[\"Mean Accuracy\", \"Mean Time\"], index=[0.1,0.2,0.3,0.4,0.5,0.6,0.7,0.8,0.9])\n",
    "ee_dense_stats"
   ]
  },
  {
   "cell_type": "code",
   "execution_count": 87,
   "metadata": {},
   "outputs": [
    {
     "data": {
      "text/plain": [
       "0.059422162539999705"
      ]
     },
     "execution_count": 87,
     "metadata": {},
     "output_type": "execute_result"
    }
   ],
   "source": [
    "co_dense.time.mean()"
   ]
  },
  {
   "cell_type": "markdown",
   "metadata": {},
   "source": [
    "# ResNet"
   ]
  },
  {
   "cell_type": "code",
   "execution_count": 88,
   "metadata": {
    "scrolled": true
   },
   "outputs": [
    {
     "data": {
      "text/html": [
       "<div>\n",
       "<style scoped>\n",
       "    .dataframe tbody tr th:only-of-type {\n",
       "        vertical-align: middle;\n",
       "    }\n",
       "\n",
       "    .dataframe tbody tr th {\n",
       "        vertical-align: top;\n",
       "    }\n",
       "\n",
       "    .dataframe thead th {\n",
       "        text-align: right;\n",
       "    }\n",
       "</style>\n",
       "<table border=\"1\" class=\"dataframe\">\n",
       "  <thead>\n",
       "    <tr style=\"text-align: right;\">\n",
       "      <th></th>\n",
       "      <th>threshold</th>\n",
       "      <th>exit</th>\n",
       "      <th>prediction</th>\n",
       "      <th>target</th>\n",
       "      <th>correct</th>\n",
       "      <th>score_margin</th>\n",
       "      <th>time</th>\n",
       "    </tr>\n",
       "  </thead>\n",
       "  <tbody>\n",
       "    <tr>\n",
       "      <td>0</td>\n",
       "      <td>0.1</td>\n",
       "      <td>0</td>\n",
       "      <td>0</td>\n",
       "      <td>0</td>\n",
       "      <td>1</td>\n",
       "      <td>0.204359</td>\n",
       "      <td>0.977127</td>\n",
       "    </tr>\n",
       "    <tr>\n",
       "      <td>1</td>\n",
       "      <td>0.1</td>\n",
       "      <td>0</td>\n",
       "      <td>0</td>\n",
       "      <td>0</td>\n",
       "      <td>1</td>\n",
       "      <td>0.989505</td>\n",
       "      <td>0.014066</td>\n",
       "    </tr>\n",
       "    <tr>\n",
       "      <td>2</td>\n",
       "      <td>0.1</td>\n",
       "      <td>0</td>\n",
       "      <td>0</td>\n",
       "      <td>0</td>\n",
       "      <td>1</td>\n",
       "      <td>0.357393</td>\n",
       "      <td>0.014050</td>\n",
       "    </tr>\n",
       "    <tr>\n",
       "      <td>3</td>\n",
       "      <td>0.1</td>\n",
       "      <td>0</td>\n",
       "      <td>0</td>\n",
       "      <td>0</td>\n",
       "      <td>1</td>\n",
       "      <td>0.870633</td>\n",
       "      <td>0.012749</td>\n",
       "    </tr>\n",
       "    <tr>\n",
       "      <td>4</td>\n",
       "      <td>0.1</td>\n",
       "      <td>0</td>\n",
       "      <td>0</td>\n",
       "      <td>0</td>\n",
       "      <td>1</td>\n",
       "      <td>0.660327</td>\n",
       "      <td>0.013005</td>\n",
       "    </tr>\n",
       "    <tr>\n",
       "      <td>...</td>\n",
       "      <td>...</td>\n",
       "      <td>...</td>\n",
       "      <td>...</td>\n",
       "      <td>...</td>\n",
       "      <td>...</td>\n",
       "      <td>...</td>\n",
       "      <td>...</td>\n",
       "    </tr>\n",
       "    <tr>\n",
       "      <td>44995</td>\n",
       "      <td>0.9</td>\n",
       "      <td>2</td>\n",
       "      <td>99</td>\n",
       "      <td>99</td>\n",
       "      <td>1</td>\n",
       "      <td>0.999986</td>\n",
       "      <td>0.047860</td>\n",
       "    </tr>\n",
       "    <tr>\n",
       "      <td>44996</td>\n",
       "      <td>0.9</td>\n",
       "      <td>2</td>\n",
       "      <td>99</td>\n",
       "      <td>99</td>\n",
       "      <td>1</td>\n",
       "      <td>0.934735</td>\n",
       "      <td>0.043598</td>\n",
       "    </tr>\n",
       "    <tr>\n",
       "      <td>44997</td>\n",
       "      <td>0.9</td>\n",
       "      <td>2</td>\n",
       "      <td>99</td>\n",
       "      <td>99</td>\n",
       "      <td>1</td>\n",
       "      <td>0.999788</td>\n",
       "      <td>0.044869</td>\n",
       "    </tr>\n",
       "    <tr>\n",
       "      <td>44998</td>\n",
       "      <td>0.9</td>\n",
       "      <td>2</td>\n",
       "      <td>99</td>\n",
       "      <td>99</td>\n",
       "      <td>1</td>\n",
       "      <td>1.000000</td>\n",
       "      <td>0.044711</td>\n",
       "    </tr>\n",
       "    <tr>\n",
       "      <td>44999</td>\n",
       "      <td>0.9</td>\n",
       "      <td>2</td>\n",
       "      <td>99</td>\n",
       "      <td>99</td>\n",
       "      <td>1</td>\n",
       "      <td>0.998888</td>\n",
       "      <td>0.048476</td>\n",
       "    </tr>\n",
       "  </tbody>\n",
       "</table>\n",
       "<p>45000 rows × 7 columns</p>\n",
       "</div>"
      ],
      "text/plain": [
       "       threshold  exit  prediction  target  correct  score_margin      time\n",
       "0            0.1     0           0       0        1      0.204359  0.977127\n",
       "1            0.1     0           0       0        1      0.989505  0.014066\n",
       "2            0.1     0           0       0        1      0.357393  0.014050\n",
       "3            0.1     0           0       0        1      0.870633  0.012749\n",
       "4            0.1     0           0       0        1      0.660327  0.013005\n",
       "...          ...   ...         ...     ...      ...           ...       ...\n",
       "44995        0.9     2          99      99        1      0.999986  0.047860\n",
       "44996        0.9     2          99      99        1      0.934735  0.043598\n",
       "44997        0.9     2          99      99        1      0.999788  0.044869\n",
       "44998        0.9     2          99      99        1      1.000000  0.044711\n",
       "44999        0.9     2          99      99        1      0.998888  0.048476\n",
       "\n",
       "[45000 rows x 7 columns]"
      ]
     },
     "execution_count": 88,
     "metadata": {},
     "output_type": "execute_result"
    }
   ],
   "source": [
    "ee_res = pd.read_csv('resnet101_all_inference_test.csv', index_col=0)\n",
    "co_res = pd.read_csv('resnet_conv_inference_test.csv', index_col=0)\n",
    "ee_res.correct = ee_res.correct.astype(int)\n",
    "ee_res"
   ]
  },
  {
   "cell_type": "code",
   "execution_count": 89,
   "metadata": {},
   "outputs": [
    {
     "data": {
      "text/plain": [
       "0.04474636967999995"
      ]
     },
     "execution_count": 89,
     "metadata": {},
     "output_type": "execute_result"
    }
   ],
   "source": [
    "co_res.mean().time"
   ]
  },
  {
   "cell_type": "code",
   "execution_count": null,
   "metadata": {},
   "outputs": [],
   "source": []
  },
  {
   "cell_type": "code",
   "execution_count": 90,
   "metadata": {},
   "outputs": [],
   "source": [
    "ee_res = ee_res.to_numpy()"
   ]
  },
  {
   "cell_type": "code",
   "execution_count": 91,
   "metadata": {},
   "outputs": [],
   "source": [
    "ee_res = pd.DataFrame(ee_res[1:], columns=['threshold', 'exit', 'prediction', 'target', 'correct', 'score', 'time'])"
   ]
  },
  {
   "cell_type": "code",
   "execution_count": 92,
   "metadata": {},
   "outputs": [
    {
     "data": {
      "text/html": [
       "<div>\n",
       "<style scoped>\n",
       "    .dataframe tbody tr th:only-of-type {\n",
       "        vertical-align: middle;\n",
       "    }\n",
       "\n",
       "    .dataframe tbody tr th {\n",
       "        vertical-align: top;\n",
       "    }\n",
       "\n",
       "    .dataframe thead th {\n",
       "        text-align: right;\n",
       "    }\n",
       "</style>\n",
       "<table border=\"1\" class=\"dataframe\">\n",
       "  <thead>\n",
       "    <tr style=\"text-align: right;\">\n",
       "      <th></th>\n",
       "      <th>Mean Accuracy</th>\n",
       "      <th>Mean Time</th>\n",
       "      <th>Std. Accuracy</th>\n",
       "      <th>Std. Time</th>\n",
       "    </tr>\n",
       "  </thead>\n",
       "  <tbody>\n",
       "    <tr>\n",
       "      <td>0.1</td>\n",
       "      <td>0.645729</td>\n",
       "      <td>0.017184</td>\n",
       "      <td>0.478340</td>\n",
       "      <td>0.009242</td>\n",
       "    </tr>\n",
       "    <tr>\n",
       "      <td>0.2</td>\n",
       "      <td>0.735200</td>\n",
       "      <td>0.021034</td>\n",
       "      <td>0.441271</td>\n",
       "      <td>0.012512</td>\n",
       "    </tr>\n",
       "    <tr>\n",
       "      <td>0.3</td>\n",
       "      <td>0.788400</td>\n",
       "      <td>0.023683</td>\n",
       "      <td>0.408484</td>\n",
       "      <td>0.013815</td>\n",
       "    </tr>\n",
       "    <tr>\n",
       "      <td>0.4</td>\n",
       "      <td>0.822600</td>\n",
       "      <td>0.026222</td>\n",
       "      <td>0.382045</td>\n",
       "      <td>0.014730</td>\n",
       "    </tr>\n",
       "    <tr>\n",
       "      <td>0.5</td>\n",
       "      <td>0.848800</td>\n",
       "      <td>0.028200</td>\n",
       "      <td>0.358280</td>\n",
       "      <td>0.015086</td>\n",
       "    </tr>\n",
       "    <tr>\n",
       "      <td>0.6</td>\n",
       "      <td>0.866200</td>\n",
       "      <td>0.029933</td>\n",
       "      <td>0.340471</td>\n",
       "      <td>0.015105</td>\n",
       "    </tr>\n",
       "    <tr>\n",
       "      <td>0.7</td>\n",
       "      <td>0.875400</td>\n",
       "      <td>0.032040</td>\n",
       "      <td>0.330298</td>\n",
       "      <td>0.015258</td>\n",
       "    </tr>\n",
       "    <tr>\n",
       "      <td>0.8</td>\n",
       "      <td>0.884200</td>\n",
       "      <td>0.033742</td>\n",
       "      <td>0.320017</td>\n",
       "      <td>0.014821</td>\n",
       "    </tr>\n",
       "    <tr>\n",
       "      <td>0.9</td>\n",
       "      <td>0.890200</td>\n",
       "      <td>0.036733</td>\n",
       "      <td>0.312672</td>\n",
       "      <td>0.014237</td>\n",
       "    </tr>\n",
       "  </tbody>\n",
       "</table>\n",
       "</div>"
      ],
      "text/plain": [
       "     Mean Accuracy  Mean Time  Std. Accuracy  Std. Time\n",
       "0.1       0.645729   0.017184       0.478340   0.009242\n",
       "0.2       0.735200   0.021034       0.441271   0.012512\n",
       "0.3       0.788400   0.023683       0.408484   0.013815\n",
       "0.4       0.822600   0.026222       0.382045   0.014730\n",
       "0.5       0.848800   0.028200       0.358280   0.015086\n",
       "0.6       0.866200   0.029933       0.340471   0.015105\n",
       "0.7       0.875400   0.032040       0.330298   0.015258\n",
       "0.8       0.884200   0.033742       0.320017   0.014821\n",
       "0.9       0.890200   0.036733       0.312672   0.014237"
      ]
     },
     "execution_count": 92,
     "metadata": {},
     "output_type": "execute_result"
    }
   ],
   "source": [
    "arr = []\n",
    "\n",
    "x = [0.1,0.2,0.3,0.4,0.5,0.6,0.7,0.8,0.9]\n",
    "\n",
    "for i in ee_res.groupby(['threshold']):\n",
    "    tmp = i[1].mean()\n",
    "    tmp2 = i[1].std()\n",
    "    arr.append((tmp.correct, tmp.time, tmp2.correct, tmp2.time))\n",
    "    \n",
    "\n",
    "#sns.lineplot(data=i[1].mean().correct)\n",
    "ee_res_stats = pd.DataFrame(arr, columns=[\"Mean Accuracy\", \"Mean Time\", \"Std. Accuracy\", \"Std. Time\"], index=[0.1,0.2,0.3,0.4,0.5,0.6,0.7,0.8,0.9])\n",
    "ee_res_stats"
   ]
  },
  {
   "cell_type": "markdown",
   "metadata": {},
   "source": [
    "# MSDNet"
   ]
  },
  {
   "cell_type": "code",
   "execution_count": 102,
   "metadata": {
    "scrolled": true
   },
   "outputs": [
    {
     "data": {
      "text/html": [
       "<div>\n",
       "<style scoped>\n",
       "    .dataframe tbody tr th:only-of-type {\n",
       "        vertical-align: middle;\n",
       "    }\n",
       "\n",
       "    .dataframe tbody tr th {\n",
       "        vertical-align: top;\n",
       "    }\n",
       "\n",
       "    .dataframe thead th {\n",
       "        text-align: right;\n",
       "    }\n",
       "</style>\n",
       "<table border=\"1\" class=\"dataframe\">\n",
       "  <thead>\n",
       "    <tr style=\"text-align: right;\">\n",
       "      <th></th>\n",
       "      <th>threshold</th>\n",
       "      <th>exit</th>\n",
       "      <th>prediction</th>\n",
       "      <th>target</th>\n",
       "      <th>correct</th>\n",
       "      <th>score_margin</th>\n",
       "      <th>time</th>\n",
       "    </tr>\n",
       "  </thead>\n",
       "  <tbody>\n",
       "    <tr>\n",
       "      <td>0</td>\n",
       "      <td>0.1</td>\n",
       "      <td>0</td>\n",
       "      <td>0</td>\n",
       "      <td>0</td>\n",
       "      <td>1</td>\n",
       "      <td>0.952709</td>\n",
       "      <td>1.013905</td>\n",
       "    </tr>\n",
       "    <tr>\n",
       "      <td>1</td>\n",
       "      <td>0.1</td>\n",
       "      <td>0</td>\n",
       "      <td>0</td>\n",
       "      <td>0</td>\n",
       "      <td>1</td>\n",
       "      <td>0.999861</td>\n",
       "      <td>0.036922</td>\n",
       "    </tr>\n",
       "    <tr>\n",
       "      <td>2</td>\n",
       "      <td>0.1</td>\n",
       "      <td>0</td>\n",
       "      <td>0</td>\n",
       "      <td>0</td>\n",
       "      <td>1</td>\n",
       "      <td>0.988251</td>\n",
       "      <td>0.037888</td>\n",
       "    </tr>\n",
       "    <tr>\n",
       "      <td>3</td>\n",
       "      <td>0.1</td>\n",
       "      <td>0</td>\n",
       "      <td>0</td>\n",
       "      <td>0</td>\n",
       "      <td>1</td>\n",
       "      <td>0.999969</td>\n",
       "      <td>0.036743</td>\n",
       "    </tr>\n",
       "    <tr>\n",
       "      <td>4</td>\n",
       "      <td>0.1</td>\n",
       "      <td>0</td>\n",
       "      <td>0</td>\n",
       "      <td>0</td>\n",
       "      <td>1</td>\n",
       "      <td>0.999953</td>\n",
       "      <td>0.037214</td>\n",
       "    </tr>\n",
       "    <tr>\n",
       "      <td>...</td>\n",
       "      <td>...</td>\n",
       "      <td>...</td>\n",
       "      <td>...</td>\n",
       "      <td>...</td>\n",
       "      <td>...</td>\n",
       "      <td>...</td>\n",
       "      <td>...</td>\n",
       "    </tr>\n",
       "    <tr>\n",
       "      <td>44995</td>\n",
       "      <td>0.9</td>\n",
       "      <td>2</td>\n",
       "      <td>99</td>\n",
       "      <td>99</td>\n",
       "      <td>1</td>\n",
       "      <td>0.966731</td>\n",
       "      <td>0.094420</td>\n",
       "    </tr>\n",
       "    <tr>\n",
       "      <td>44996</td>\n",
       "      <td>0.9</td>\n",
       "      <td>3</td>\n",
       "      <td>99</td>\n",
       "      <td>99</td>\n",
       "      <td>1</td>\n",
       "      <td>0.071395</td>\n",
       "      <td>0.097776</td>\n",
       "    </tr>\n",
       "    <tr>\n",
       "      <td>44997</td>\n",
       "      <td>0.9</td>\n",
       "      <td>2</td>\n",
       "      <td>99</td>\n",
       "      <td>99</td>\n",
       "      <td>1</td>\n",
       "      <td>0.998703</td>\n",
       "      <td>0.076617</td>\n",
       "    </tr>\n",
       "    <tr>\n",
       "      <td>44998</td>\n",
       "      <td>0.9</td>\n",
       "      <td>1</td>\n",
       "      <td>99</td>\n",
       "      <td>99</td>\n",
       "      <td>1</td>\n",
       "      <td>0.999998</td>\n",
       "      <td>0.060746</td>\n",
       "    </tr>\n",
       "    <tr>\n",
       "      <td>44999</td>\n",
       "      <td>0.9</td>\n",
       "      <td>3</td>\n",
       "      <td>99</td>\n",
       "      <td>99</td>\n",
       "      <td>1</td>\n",
       "      <td>0.994461</td>\n",
       "      <td>0.085661</td>\n",
       "    </tr>\n",
       "  </tbody>\n",
       "</table>\n",
       "<p>45000 rows × 7 columns</p>\n",
       "</div>"
      ],
      "text/plain": [
       "       threshold  exit  prediction  target  correct  score_margin      time\n",
       "0            0.1     0           0       0        1      0.952709  1.013905\n",
       "1            0.1     0           0       0        1      0.999861  0.036922\n",
       "2            0.1     0           0       0        1      0.988251  0.037888\n",
       "3            0.1     0           0       0        1      0.999969  0.036743\n",
       "4            0.1     0           0       0        1      0.999953  0.037214\n",
       "...          ...   ...         ...     ...      ...           ...       ...\n",
       "44995        0.9     2          99      99        1      0.966731  0.094420\n",
       "44996        0.9     3          99      99        1      0.071395  0.097776\n",
       "44997        0.9     2          99      99        1      0.998703  0.076617\n",
       "44998        0.9     1          99      99        1      0.999998  0.060746\n",
       "44999        0.9     3          99      99        1      0.994461  0.085661\n",
       "\n",
       "[45000 rows x 7 columns]"
      ]
     },
     "execution_count": 102,
     "metadata": {},
     "output_type": "execute_result"
    }
   ],
   "source": [
    "ee_msd= pd.read_csv('msdnet_inference_test.csv', index_col=0)\n",
    "ee_msd.correct = ee_msd.correct.astype(int)\n",
    "ee_msd"
   ]
  },
  {
   "cell_type": "code",
   "execution_count": 103,
   "metadata": {},
   "outputs": [
    {
     "data": {
      "text/plain": [
       "0.0449296651800002"
      ]
     },
     "execution_count": 103,
     "metadata": {},
     "output_type": "execute_result"
    }
   ],
   "source": [
    "ee_msd.mean().time"
   ]
  },
  {
   "cell_type": "code",
   "execution_count": null,
   "metadata": {},
   "outputs": [],
   "source": []
  },
  {
   "cell_type": "code",
   "execution_count": 104,
   "metadata": {},
   "outputs": [],
   "source": [
    "ee_msd = ee_msd.to_numpy()"
   ]
  },
  {
   "cell_type": "code",
   "execution_count": 105,
   "metadata": {},
   "outputs": [],
   "source": [
    "ee_msd = pd.DataFrame(ee_msd[1:], columns=['threshold', 'exit', 'prediction', 'target', 'correct', 'score', 'time'])"
   ]
  },
  {
   "cell_type": "code",
   "execution_count": 106,
   "metadata": {},
   "outputs": [
    {
     "data": {
      "text/html": [
       "<div>\n",
       "<style scoped>\n",
       "    .dataframe tbody tr th:only-of-type {\n",
       "        vertical-align: middle;\n",
       "    }\n",
       "\n",
       "    .dataframe tbody tr th {\n",
       "        vertical-align: top;\n",
       "    }\n",
       "\n",
       "    .dataframe thead th {\n",
       "        text-align: right;\n",
       "    }\n",
       "</style>\n",
       "<table border=\"1\" class=\"dataframe\">\n",
       "  <thead>\n",
       "    <tr style=\"text-align: right;\">\n",
       "      <th></th>\n",
       "      <th>Mean Accuracy</th>\n",
       "      <th>Mean Time</th>\n",
       "      <th>Std. Accuracy</th>\n",
       "      <th>Std. Time</th>\n",
       "    </tr>\n",
       "  </thead>\n",
       "  <tbody>\n",
       "    <tr>\n",
       "      <td>0.1</td>\n",
       "      <td>0.769354</td>\n",
       "      <td>0.039120</td>\n",
       "      <td>0.421288</td>\n",
       "      <td>0.005985</td>\n",
       "    </tr>\n",
       "    <tr>\n",
       "      <td>0.2</td>\n",
       "      <td>0.784800</td>\n",
       "      <td>0.040646</td>\n",
       "      <td>0.411002</td>\n",
       "      <td>0.008753</td>\n",
       "    </tr>\n",
       "    <tr>\n",
       "      <td>0.3</td>\n",
       "      <td>0.801000</td>\n",
       "      <td>0.041696</td>\n",
       "      <td>0.399288</td>\n",
       "      <td>0.010437</td>\n",
       "    </tr>\n",
       "    <tr>\n",
       "      <td>0.4</td>\n",
       "      <td>0.812400</td>\n",
       "      <td>0.043611</td>\n",
       "      <td>0.390431</td>\n",
       "      <td>0.013164</td>\n",
       "    </tr>\n",
       "    <tr>\n",
       "      <td>0.5</td>\n",
       "      <td>0.825200</td>\n",
       "      <td>0.044177</td>\n",
       "      <td>0.379834</td>\n",
       "      <td>0.013148</td>\n",
       "    </tr>\n",
       "    <tr>\n",
       "      <td>0.6</td>\n",
       "      <td>0.833800</td>\n",
       "      <td>0.045522</td>\n",
       "      <td>0.372297</td>\n",
       "      <td>0.014635</td>\n",
       "    </tr>\n",
       "    <tr>\n",
       "      <td>0.7</td>\n",
       "      <td>0.843000</td>\n",
       "      <td>0.047342</td>\n",
       "      <td>0.363837</td>\n",
       "      <td>0.016076</td>\n",
       "    </tr>\n",
       "    <tr>\n",
       "      <td>0.8</td>\n",
       "      <td>0.851600</td>\n",
       "      <td>0.049499</td>\n",
       "      <td>0.355532</td>\n",
       "      <td>0.017836</td>\n",
       "    </tr>\n",
       "    <tr>\n",
       "      <td>0.9</td>\n",
       "      <td>0.862600</td>\n",
       "      <td>0.052559</td>\n",
       "      <td>0.344304</td>\n",
       "      <td>0.019560</td>\n",
       "    </tr>\n",
       "  </tbody>\n",
       "</table>\n",
       "</div>"
      ],
      "text/plain": [
       "     Mean Accuracy  Mean Time  Std. Accuracy  Std. Time\n",
       "0.1       0.769354   0.039120       0.421288   0.005985\n",
       "0.2       0.784800   0.040646       0.411002   0.008753\n",
       "0.3       0.801000   0.041696       0.399288   0.010437\n",
       "0.4       0.812400   0.043611       0.390431   0.013164\n",
       "0.5       0.825200   0.044177       0.379834   0.013148\n",
       "0.6       0.833800   0.045522       0.372297   0.014635\n",
       "0.7       0.843000   0.047342       0.363837   0.016076\n",
       "0.8       0.851600   0.049499       0.355532   0.017836\n",
       "0.9       0.862600   0.052559       0.344304   0.019560"
      ]
     },
     "execution_count": 106,
     "metadata": {},
     "output_type": "execute_result"
    }
   ],
   "source": [
    "arr = []\n",
    "\n",
    "x = [0.1,0.2,0.3,0.4,0.5,0.6,0.7,0.8,0.9]\n",
    "\n",
    "for i in ee_msd.groupby(['threshold']):\n",
    "    tmp = i[1].mean()\n",
    "    tmp2 = i[1].std()\n",
    "    arr.append((tmp.correct, tmp.time, tmp2.correct, tmp2.time))\n",
    "    \n",
    "\n",
    "#sns.lineplot(data=i[1].mean().correct)\n",
    "ee_msd_stats = pd.DataFrame(arr, columns=[\"Mean Accuracy\", \"Mean Time\", \"Std. Accuracy\", \"Std. Time\"], index=[0.1,0.2,0.3,0.4,0.5,0.6,0.7,0.8,0.9])\n",
    "ee_msd_stats"
   ]
  },
  {
   "cell_type": "code",
   "execution_count": 107,
   "metadata": {},
   "outputs": [
    {
     "data": {
      "image/png": "[encoded data removed]",
      "text/plain": [
       "<Figure size 720x72 with 1 Axes>"
      ]
     },
     "metadata": {},
     "output_type": "display_data"
    }
   ],
   "source": [
    "current_palette = sns.color_palette()\n",
    "sns.palplot(current_palette)"
   ]
  },
  {
   "cell_type": "code",
   "execution_count": 108,
   "metadata": {},
   "outputs": [
    {
     "data": {
      "image/png": "[encoded data removed]",
      "text/plain": [
       "<Figure size 1152x648 with 2 Axes>"
      ]
     },
     "metadata": {},
     "output_type": "display_data"
    }
   ],
   "source": [
    "fig, axes = plt.subplots(2,1, sharex=True)\n",
    "sns.lineplot(x=x, y=co_res.mean().correct*np.ones(9), ax=axes[0], color=current_palette[0])\n",
    "sns.lineplot(x=x, y=co_res.mean().time*np.ones(9)*1000, ax=axes[1], color=current_palette[0])\n",
    "\n",
    "sns.lineplot(x=x, y=co_dense.mean().correct*np.ones(9), ax=axes[0],  color=current_palette[1])\n",
    "sns.lineplot(x=x, y=co_dense.mean().time*np.ones(9)*1000, ax=axes[1],  color=current_palette[1])\n",
    "\n",
    "sns.lineplot(data=ee_res_stats['Mean Accuracy'], ax=axes[0], color=current_palette[0])\n",
    "sns.lineplot(data=ee_res_stats['Mean Time']*1000, ax=axes[1], color=current_palette[0])\n",
    "\n",
    "sns.lineplot(data=ee_dense_stats['Mean Accuracy'], ax=axes[0], color=current_palette[1])\n",
    "sns.lineplot(data=ee_dense_stats['Mean Time']*1000, ax=axes[1],  color=current_palette[1])\n",
    "\n",
    "sns.lineplot(data=ee_msd_stats['Mean Accuracy'], ax=axes[0], color=current_palette[2])\n",
    "sns.lineplot(data=ee_msd_stats['Mean Time']*1000, ax=axes[1],  color=current_palette[2])\n",
    "\n",
    "axes[0].set_ylabel('accuracy')\n",
    "axes[1].set_ylabel('mean time (ms)')\n",
    "plt.xlabel('threshold')\n",
    "\n",
    "\n",
    "\n",
    "axes[0].lines[0].set_linestyle(\"--\")\n",
    "\n",
    "axes[1].lines[0].set_linestyle(\"--\")\n",
    "\n",
    "axes[0].lines[1].set_linestyle(\"--\")\n",
    "\n",
    "axes[1].lines[1].set_linestyle(\"--\")\n",
    "\n",
    "\n",
    "fig.legend([ 'ResNet', 'DenseNet', 'B-ResNet', 'B-DenseNet', 'MSDNet'], ncol=5, loc=\"upper center\")\n",
    "fig.tight_layout()\n",
    "fig.subplots_adjust(top=0.90)\n",
    "plt.savefig('compare_exiting_vs_no_exiting.png', dpi=300)"
   ]
  },
  {
   "cell_type": "code",
   "execution_count": 58,
   "metadata": {},
   "outputs": [
    {
     "data": {
      "text/plain": [
       "13389"
      ]
     },
     "execution_count": 58,
     "metadata": {},
     "output_type": "execute_result"
    }
   ],
   "source": [
    "len(ee_res.loc[ee_res['exit']==0])"
   ]
  },
  {
   "cell_type": "code",
   "execution_count": 59,
   "metadata": {},
   "outputs": [
    {
     "data": {
      "text/plain": [
       "3062"
      ]
     },
     "execution_count": 59,
     "metadata": {},
     "output_type": "execute_result"
    }
   ],
   "source": [
    "len(ee_res.loc[(ee_res['exit']==0) & (ee_res['correct'] == False)])"
   ]
  },
  {
   "cell_type": "code",
   "execution_count": 60,
   "metadata": {},
   "outputs": [
    {
     "data": {
      "text/plain": [
       "14011"
      ]
     },
     "execution_count": 60,
     "metadata": {},
     "output_type": "execute_result"
    }
   ],
   "source": [
    "len(ee_res.loc[ee_res['exit']==1])"
   ]
  },
  {
   "cell_type": "code",
   "execution_count": 61,
   "metadata": {},
   "outputs": [
    {
     "data": {
      "text/plain": [
       "14136"
      ]
     },
     "execution_count": 61,
     "metadata": {},
     "output_type": "execute_result"
    }
   ],
   "source": [
    "len(ee_res.loc[ee_res['exit']==2])"
   ]
  },
  {
   "cell_type": "code",
   "execution_count": 62,
   "metadata": {},
   "outputs": [
    {
     "data": {
      "text/plain": [
       "3463"
      ]
     },
     "execution_count": 62,
     "metadata": {},
     "output_type": "execute_result"
    }
   ],
   "source": [
    "len(ee_res.loc[ee_res['exit']==3])"
   ]
  },
  {
   "cell_type": "code",
   "execution_count": 63,
   "metadata": {},
   "outputs": [
    {
     "data": {
      "text/plain": [
       "1736"
      ]
     },
     "execution_count": 63,
     "metadata": {},
     "output_type": "execute_result"
    }
   ],
   "source": [
    "len(ee_res.loc[(ee_res['exit']==3) & (ee_res['correct'] == False)])"
   ]
  },
  {
   "cell_type": "code",
   "execution_count": 64,
   "metadata": {},
   "outputs": [
    {
     "data": {
      "text/plain": [
       "8216"
      ]
     },
     "execution_count": 64,
     "metadata": {},
     "output_type": "execute_result"
    }
   ],
   "source": [
    "len(ee_res.loc[(ee_res['correct'] == False)])"
   ]
  },
  {
   "cell_type": "code",
   "execution_count": 65,
   "metadata": {},
   "outputs": [
    {
     "data": {
      "text/plain": [
       "threshold  exit\n",
       "0.1        0.0     3297\n",
       "           1.0     1252\n",
       "           2.0      424\n",
       "           3.0       26\n",
       "0.2        0.0     2456\n",
       "           1.0     1584\n",
       "           2.0      875\n",
       "           3.0       85\n",
       "0.3        0.0     1940\n",
       "           1.0     1704\n",
       "           2.0     1184\n",
       "           3.0      172\n",
       "0.4        0.0     1571\n",
       "           1.0     1717\n",
       "           2.0     1448\n",
       "           3.0      264\n",
       "0.5        0.0     1285\n",
       "           1.0     1708\n",
       "           2.0     1653\n",
       "           3.0      354\n",
       "0.6        0.0     1029\n",
       "           1.0     1673\n",
       "           2.0     1853\n",
       "           3.0      445\n",
       "0.7        0.0      828\n",
       "           1.0     1582\n",
       "           2.0     2039\n",
       "           3.0      551\n",
       "0.8        0.0      615\n",
       "           1.0     1489\n",
       "           2.0     2220\n",
       "           3.0      676\n",
       "0.9        0.0      368\n",
       "           1.0     1302\n",
       "           2.0     2440\n",
       "           3.0      890\n",
       "dtype: int64"
      ]
     },
     "execution_count": 65,
     "metadata": {},
     "output_type": "execute_result"
    }
   ],
   "source": [
    "ee_res.groupby(['threshold', 'exit']).size()"
   ]
  },
  {
   "cell_type": "code",
   "execution_count": 66,
   "metadata": {},
   "outputs": [
    {
     "data": {
      "text/html": [
       "<div>\n",
       "<style scoped>\n",
       "    .dataframe tbody tr th:only-of-type {\n",
       "        vertical-align: middle;\n",
       "    }\n",
       "\n",
       "    .dataframe tbody tr th {\n",
       "        vertical-align: top;\n",
       "    }\n",
       "\n",
       "    .dataframe thead th {\n",
       "        text-align: right;\n",
       "    }\n",
       "</style>\n",
       "<table border=\"1\" class=\"dataframe\">\n",
       "  <thead>\n",
       "    <tr style=\"text-align: right;\">\n",
       "      <th></th>\n",
       "      <th>idx</th>\n",
       "      <th>dfs</th>\n",
       "    </tr>\n",
       "  </thead>\n",
       "  <tbody>\n",
       "    <tr>\n",
       "      <td>0</td>\n",
       "      <td>ResNet</td>\n",
       "      <td>threshold  exit  prediction  target  co...</td>\n",
       "    </tr>\n",
       "    <tr>\n",
       "      <td>1</td>\n",
       "      <td>DenseNet</td>\n",
       "      <td>threshold exit prediction target correct...</td>\n",
       "    </tr>\n",
       "  </tbody>\n",
       "</table>\n",
       "</div>"
      ],
      "text/plain": [
       "        idx                                                dfs\n",
       "0    ResNet         threshold  exit  prediction  target  co...\n",
       "1  DenseNet        threshold exit prediction target correct..."
      ]
     },
     "execution_count": 66,
     "metadata": {},
     "output_type": "execute_result"
    }
   ],
   "source": [
    "merged = pd.DataFrame({'idx': ['ResNet', 'DenseNet'], 'dfs':[ee_res, ee_dense]})\n",
    "merged"
   ]
  },
  {
   "cell_type": "code",
   "execution_count": 67,
   "metadata": {},
   "outputs": [
    {
     "data": {
      "text/plain": [
       "<matplotlib.axes._subplots.AxesSubplot at 0x7fae7bea9710>"
      ]
     },
     "execution_count": 67,
     "metadata": {},
     "output_type": "execute_result"
    },
    {
     "data": {
      "image/png": "[encoded data removed]",
      "text/plain": [
       "<Figure size 1152x648 with 1 Axes>"
      ]
     },
     "metadata": {},
     "output_type": "display_data"
    }
   ],
   "source": [
    "fig, axes = plt.subplots(1,1)\n",
    "sns.barplot(x=np.arange(0,4,1), y=ee_res.groupby('exit').size(), ax=axes)\n",
    "sns.barplot(x=np.arange(0,4,1), y=ee_dense.groupby('exit').size(), ax=axes)\n"
   ]
  },
  {
   "cell_type": "code",
   "execution_count": 112,
   "metadata": {},
   "outputs": [
    {
     "data": {
      "text/plain": [
       "threshold  exit\n",
       "0.1        0.0     4704\n",
       "           1.0      255\n",
       "           2.0       36\n",
       "           3.0        4\n",
       "0.2        0.0     4456\n",
       "           1.0      427\n",
       "           2.0       87\n",
       "           3.0       30\n",
       "0.3        0.0     4237\n",
       "           1.0      572\n",
       "           2.0      126\n",
       "           3.0       65\n",
       "0.4        0.0     4037\n",
       "           1.0      669\n",
       "           2.0      185\n",
       "           3.0      109\n",
       "0.5        0.0     3850\n",
       "           1.0      756\n",
       "           2.0      223\n",
       "           3.0      171\n",
       "0.6        0.0     3666\n",
       "           1.0      809\n",
       "           2.0      279\n",
       "           3.0      246\n",
       "0.7        0.0     3440\n",
       "           1.0      862\n",
       "           2.0      335\n",
       "           3.0      363\n",
       "0.8        0.0     3199\n",
       "           1.0      891\n",
       "           2.0      377\n",
       "           3.0      533\n",
       "0.9        0.0     2855\n",
       "           1.0      934\n",
       "           2.0      407\n",
       "           3.0      804\n",
       "dtype: int64"
      ]
     },
     "execution_count": 112,
     "metadata": {},
     "output_type": "execute_result"
    }
   ],
   "source": [
    " ee_msd.groupby(['threshold', 'exit']).size()"
   ]
  },
  {
   "cell_type": "code",
   "execution_count": 109,
   "metadata": {},
   "outputs": [
    {
     "data": {
      "text/html": [
       "<div>\n",
       "<style scoped>\n",
       "    .dataframe tbody tr th:only-of-type {\n",
       "        vertical-align: middle;\n",
       "    }\n",
       "\n",
       "    .dataframe tbody tr th {\n",
       "        vertical-align: top;\n",
       "    }\n",
       "\n",
       "    .dataframe thead th {\n",
       "        text-align: right;\n",
       "    }\n",
       "</style>\n",
       "<table border=\"1\" class=\"dataframe\">\n",
       "  <thead>\n",
       "    <tr style=\"text-align: right;\">\n",
       "      <th></th>\n",
       "      <th></th>\n",
       "      <th>ResNet</th>\n",
       "      <th>DenseNet</th>\n",
       "      <th>MSDNet</th>\n",
       "    </tr>\n",
       "    <tr>\n",
       "      <th>threshold</th>\n",
       "      <th>exit</th>\n",
       "      <th></th>\n",
       "      <th></th>\n",
       "      <th></th>\n",
       "    </tr>\n",
       "  </thead>\n",
       "  <tbody>\n",
       "    <tr>\n",
       "      <td rowspan=\"4\" valign=\"top\">0.1</td>\n",
       "      <td>0</td>\n",
       "      <td>0.6594</td>\n",
       "      <td>0.7392</td>\n",
       "      <td>0.9408</td>\n",
       "    </tr>\n",
       "    <tr>\n",
       "      <td>1</td>\n",
       "      <td>0.2504</td>\n",
       "      <td>0.2250</td>\n",
       "      <td>0.0510</td>\n",
       "    </tr>\n",
       "    <tr>\n",
       "      <td>2</td>\n",
       "      <td>0.0848</td>\n",
       "      <td>0.0324</td>\n",
       "      <td>0.0072</td>\n",
       "    </tr>\n",
       "    <tr>\n",
       "      <td>3</td>\n",
       "      <td>0.0052</td>\n",
       "      <td>0.0032</td>\n",
       "      <td>0.0008</td>\n",
       "    </tr>\n",
       "    <tr>\n",
       "      <td rowspan=\"4\" valign=\"top\">0.2</td>\n",
       "      <td>0</td>\n",
       "      <td>0.4912</td>\n",
       "      <td>0.5888</td>\n",
       "      <td>0.8912</td>\n",
       "    </tr>\n",
       "    <tr>\n",
       "      <td>1</td>\n",
       "      <td>0.3168</td>\n",
       "      <td>0.3262</td>\n",
       "      <td>0.0854</td>\n",
       "    </tr>\n",
       "    <tr>\n",
       "      <td>2</td>\n",
       "      <td>0.1750</td>\n",
       "      <td>0.0716</td>\n",
       "      <td>0.0174</td>\n",
       "    </tr>\n",
       "    <tr>\n",
       "      <td>3</td>\n",
       "      <td>0.0170</td>\n",
       "      <td>0.0134</td>\n",
       "      <td>0.0060</td>\n",
       "    </tr>\n",
       "    <tr>\n",
       "      <td rowspan=\"4\" valign=\"top\">0.3</td>\n",
       "      <td>0</td>\n",
       "      <td>0.3880</td>\n",
       "      <td>0.4912</td>\n",
       "      <td>0.8474</td>\n",
       "    </tr>\n",
       "    <tr>\n",
       "      <td>1</td>\n",
       "      <td>0.3408</td>\n",
       "      <td>0.3690</td>\n",
       "      <td>0.1144</td>\n",
       "    </tr>\n",
       "    <tr>\n",
       "      <td>2</td>\n",
       "      <td>0.2368</td>\n",
       "      <td>0.1066</td>\n",
       "      <td>0.0252</td>\n",
       "    </tr>\n",
       "    <tr>\n",
       "      <td>3</td>\n",
       "      <td>0.0344</td>\n",
       "      <td>0.0332</td>\n",
       "      <td>0.0130</td>\n",
       "    </tr>\n",
       "    <tr>\n",
       "      <td rowspan=\"4\" valign=\"top\">0.4</td>\n",
       "      <td>0</td>\n",
       "      <td>0.3142</td>\n",
       "      <td>0.4130</td>\n",
       "      <td>0.8074</td>\n",
       "    </tr>\n",
       "    <tr>\n",
       "      <td>1</td>\n",
       "      <td>0.3434</td>\n",
       "      <td>0.3950</td>\n",
       "      <td>0.1338</td>\n",
       "    </tr>\n",
       "    <tr>\n",
       "      <td>2</td>\n",
       "      <td>0.2896</td>\n",
       "      <td>0.1380</td>\n",
       "      <td>0.0370</td>\n",
       "    </tr>\n",
       "    <tr>\n",
       "      <td>3</td>\n",
       "      <td>0.0528</td>\n",
       "      <td>0.0540</td>\n",
       "      <td>0.0218</td>\n",
       "    </tr>\n",
       "    <tr>\n",
       "      <td rowspan=\"4\" valign=\"top\">0.5</td>\n",
       "      <td>0</td>\n",
       "      <td>0.2570</td>\n",
       "      <td>0.3452</td>\n",
       "      <td>0.7700</td>\n",
       "    </tr>\n",
       "    <tr>\n",
       "      <td>1</td>\n",
       "      <td>0.3416</td>\n",
       "      <td>0.4144</td>\n",
       "      <td>0.1512</td>\n",
       "    </tr>\n",
       "    <tr>\n",
       "      <td>2</td>\n",
       "      <td>0.3306</td>\n",
       "      <td>0.1626</td>\n",
       "      <td>0.0446</td>\n",
       "    </tr>\n",
       "    <tr>\n",
       "      <td>3</td>\n",
       "      <td>0.0708</td>\n",
       "      <td>0.0778</td>\n",
       "      <td>0.0342</td>\n",
       "    </tr>\n",
       "    <tr>\n",
       "      <td rowspan=\"4\" valign=\"top\">0.6</td>\n",
       "      <td>0</td>\n",
       "      <td>0.2058</td>\n",
       "      <td>0.2836</td>\n",
       "      <td>0.7332</td>\n",
       "    </tr>\n",
       "    <tr>\n",
       "      <td>1</td>\n",
       "      <td>0.3346</td>\n",
       "      <td>0.4298</td>\n",
       "      <td>0.1618</td>\n",
       "    </tr>\n",
       "    <tr>\n",
       "      <td>2</td>\n",
       "      <td>0.3706</td>\n",
       "      <td>0.1798</td>\n",
       "      <td>0.0558</td>\n",
       "    </tr>\n",
       "    <tr>\n",
       "      <td>3</td>\n",
       "      <td>0.0890</td>\n",
       "      <td>0.1068</td>\n",
       "      <td>0.0492</td>\n",
       "    </tr>\n",
       "    <tr>\n",
       "      <td rowspan=\"4\" valign=\"top\">0.7</td>\n",
       "      <td>0</td>\n",
       "      <td>0.1656</td>\n",
       "      <td>0.2358</td>\n",
       "      <td>0.6880</td>\n",
       "    </tr>\n",
       "    <tr>\n",
       "      <td>1</td>\n",
       "      <td>0.3164</td>\n",
       "      <td>0.4344</td>\n",
       "      <td>0.1724</td>\n",
       "    </tr>\n",
       "    <tr>\n",
       "      <td>2</td>\n",
       "      <td>0.4078</td>\n",
       "      <td>0.1956</td>\n",
       "      <td>0.0670</td>\n",
       "    </tr>\n",
       "    <tr>\n",
       "      <td>3</td>\n",
       "      <td>0.1102</td>\n",
       "      <td>0.1342</td>\n",
       "      <td>0.0726</td>\n",
       "    </tr>\n",
       "    <tr>\n",
       "      <td rowspan=\"4\" valign=\"top\">0.8</td>\n",
       "      <td>0</td>\n",
       "      <td>0.1230</td>\n",
       "      <td>0.1842</td>\n",
       "      <td>0.6398</td>\n",
       "    </tr>\n",
       "    <tr>\n",
       "      <td>1</td>\n",
       "      <td>0.2978</td>\n",
       "      <td>0.4294</td>\n",
       "      <td>0.1782</td>\n",
       "    </tr>\n",
       "    <tr>\n",
       "      <td>2</td>\n",
       "      <td>0.4440</td>\n",
       "      <td>0.2148</td>\n",
       "      <td>0.0754</td>\n",
       "    </tr>\n",
       "    <tr>\n",
       "      <td>3</td>\n",
       "      <td>0.1352</td>\n",
       "      <td>0.1716</td>\n",
       "      <td>0.1066</td>\n",
       "    </tr>\n",
       "    <tr>\n",
       "      <td rowspan=\"4\" valign=\"top\">0.9</td>\n",
       "      <td>0</td>\n",
       "      <td>0.0736</td>\n",
       "      <td>0.1230</td>\n",
       "      <td>0.5710</td>\n",
       "    </tr>\n",
       "    <tr>\n",
       "      <td>1</td>\n",
       "      <td>0.2604</td>\n",
       "      <td>0.4076</td>\n",
       "      <td>0.1868</td>\n",
       "    </tr>\n",
       "    <tr>\n",
       "      <td>2</td>\n",
       "      <td>0.4880</td>\n",
       "      <td>0.2442</td>\n",
       "      <td>0.0814</td>\n",
       "    </tr>\n",
       "    <tr>\n",
       "      <td>3</td>\n",
       "      <td>0.1780</td>\n",
       "      <td>0.2252</td>\n",
       "      <td>0.1608</td>\n",
       "    </tr>\n",
       "  </tbody>\n",
       "</table>\n",
       "</div>"
      ],
      "text/plain": [
       "                ResNet  DenseNet  MSDNet\n",
       "threshold exit                          \n",
       "0.1       0     0.6594    0.7392  0.9408\n",
       "          1     0.2504    0.2250  0.0510\n",
       "          2     0.0848    0.0324  0.0072\n",
       "          3     0.0052    0.0032  0.0008\n",
       "0.2       0     0.4912    0.5888  0.8912\n",
       "          1     0.3168    0.3262  0.0854\n",
       "          2     0.1750    0.0716  0.0174\n",
       "          3     0.0170    0.0134  0.0060\n",
       "0.3       0     0.3880    0.4912  0.8474\n",
       "          1     0.3408    0.3690  0.1144\n",
       "          2     0.2368    0.1066  0.0252\n",
       "          3     0.0344    0.0332  0.0130\n",
       "0.4       0     0.3142    0.4130  0.8074\n",
       "          1     0.3434    0.3950  0.1338\n",
       "          2     0.2896    0.1380  0.0370\n",
       "          3     0.0528    0.0540  0.0218\n",
       "0.5       0     0.2570    0.3452  0.7700\n",
       "          1     0.3416    0.4144  0.1512\n",
       "          2     0.3306    0.1626  0.0446\n",
       "          3     0.0708    0.0778  0.0342\n",
       "0.6       0     0.2058    0.2836  0.7332\n",
       "          1     0.3346    0.4298  0.1618\n",
       "          2     0.3706    0.1798  0.0558\n",
       "          3     0.0890    0.1068  0.0492\n",
       "0.7       0     0.1656    0.2358  0.6880\n",
       "          1     0.3164    0.4344  0.1724\n",
       "          2     0.4078    0.1956  0.0670\n",
       "          3     0.1102    0.1342  0.0726\n",
       "0.8       0     0.1230    0.1842  0.6398\n",
       "          1     0.2978    0.4294  0.1782\n",
       "          2     0.4440    0.2148  0.0754\n",
       "          3     0.1352    0.1716  0.1066\n",
       "0.9       0     0.0736    0.1230  0.5710\n",
       "          1     0.2604    0.4076  0.1868\n",
       "          2     0.4880    0.2442  0.0814\n",
       "          3     0.1780    0.2252  0.1608"
      ]
     },
     "execution_count": 109,
     "metadata": {},
     "output_type": "execute_result"
    }
   ],
   "source": [
    "ee_res.exit= ee_res.exit.astype('int')\n",
    "d = {    'ResNet': ee_res.groupby(['threshold', 'exit']).size(),\n",
    "         'DenseNet': ee_dense.groupby(['threshold', 'exit']).size(),\n",
    "         'MSDNet': ee_msd.groupby(['threshold', 'exit']).size()   }\n",
    "df = pd.DataFrame(d)\n",
    "\n",
    "df = df / 5000\n",
    "df"
   ]
  },
  {
   "cell_type": "code",
   "execution_count": 69,
   "metadata": {},
   "outputs": [
    {
     "data": {
      "text/plain": [
       "Text(0, 0.5, '% of samples exited')"
      ]
     },
     "execution_count": 69,
     "metadata": {},
     "output_type": "execute_result"
    },
    {
     "data": {
      "image/png": "[encoded data removed]",
      "text/plain": [
       "<Figure size 1152x648 with 1 Axes>"
      ]
     },
     "metadata": {},
     "output_type": "display_data"
    }
   ],
   "source": [
    "ax = df.plot(kind='bar')\n",
    "ax.set_ylabel('% of samples exited')"
   ]
  },
  {
   "cell_type": "code",
   "execution_count": 111,
   "metadata": {},
   "outputs": [
    {
     "data": {
      "image/png": "[encoded data removed]",
      "text/plain": [
       "<Figure size 648x648 with 9 Axes>"
      ]
     },
     "metadata": {},
     "output_type": "display_data"
    }
   ],
   "source": [
    "fig, axes = plt.subplots(3,3, sharex=True, sharey=True, figsize=(9,9))\n",
    "for i, data in zip(axes.flat, df.groupby('threshold')):\n",
    "    i.set_title('Threshold {:0.1f}'.format(data[0]))\n",
    "    data[1].plot(kind='bar', ax=i, legend=False)\n",
    "    i.label_outer()\n",
    "    #i.xtickslabels([1, 2, 3, 4])\n",
    "    i.set(xlabel='Exit', ylabel='Ratio', xticks=[0,1,2,3])\n",
    "    i.set_xticklabels([0,1,2,3,4])\n",
    "    \n",
    "    for tick in i.get_xticklabels():\n",
    "        tick.set_rotation(0)\n",
    "    \n",
    "fig.legend(['B-ResNet', 'B-DenseNet', 'MSDNet'], ncol=3, loc='upper center')\n",
    "fig.tight_layout()\n",
    "fig.subplots_adjust(top=0.90)\n",
    "plt.savefig('inference_threshold_test.png', dpi=300)"
   ]
  }
 ],
 "metadata": {
  "kernelspec": {
   "display_name": "Python 3",
   "language": "python",
   "name": "python3"
  },
  "language_info": {
   "codemirror_mode": {
    "name": "ipython",
    "version": 3
   },
   "file_extension": ".py",
   "mimetype": "text/x-python",
   "name": "python",
   "nbconvert_exporter": "python",
   "pygments_lexer": "ipython3",
   "version": "3.7.4"
  }
 },
 "nbformat": 4,
 "nbformat_minor": 2
}
