{
 "cells": [
  {
   "cell_type": "code",
   "execution_count": 25,
   "metadata": {},
   "outputs": [],
   "source": [
    "import pandas as pd\n",
    "import numpy as np\n",
    "import seaborn as sns; sns.set('notebook')\n",
    "import matplotlib.pyplot as plt\n",
    "params = {'legend.fontsize': 'large',\n",
    "          'figure.figsize': (16, 9),\n",
    "         'axes.labelsize': 'large',\n",
    "         'axes.titlesize':'x-large',\n",
    "         'xtick.labelsize':'medium',\n",
    "         'ytick.labelsize':'medium'}\n",
    "plt.rcParams.update(params)"
   ]
  },
  {
   "cell_type": "code",
   "execution_count": 2,
   "metadata": {
    "scrolled": true
   },
   "outputs": [
    {
     "data": {
      "text/plain": [
       "threshold        0.500000\n",
       "exit             0.953356\n",
       "prediction      48.891356\n",
       "target          49.500000\n",
       "correct          0.800333\n",
       "score_margin     0.785511\n",
       "time             0.032141\n",
       "dtype: float64"
      ]
     },
     "execution_count": 2,
     "metadata": {},
     "output_type": "execute_result"
    }
   ],
   "source": [
    "ee_dense = pd.read_csv('densenet_all_inference_test.csv', index_col=0)\n",
    "co_dense = \n",
    "ee_dense.mean()"
   ]
  },
  {
   "cell_type": "code",
   "execution_count": 3,
   "metadata": {},
   "outputs": [],
   "source": [
    "ee_dense = ee_dense.to_numpy()"
   ]
  },
  {
   "cell_type": "code",
   "execution_count": 5,
   "metadata": {},
   "outputs": [],
   "source": [
    "ee_dense = pd.DataFrame(ee_dense[1:], columns=['threshold', 'exit', 'prediction', 'target', 'correct', 'score', 'time'])"
   ]
  },
  {
   "cell_type": "code",
   "execution_count": 6,
   "metadata": {},
   "outputs": [
    {
     "data": {
      "text/plain": [
       "threshold      0.500009\n",
       "exit           0.953377\n",
       "prediction    48.892442\n",
       "target        49.501100\n",
       "correct        0.800329\n",
       "score          0.785513\n",
       "time           0.032120\n",
       "dtype: float64"
      ]
     },
     "execution_count": 6,
     "metadata": {},
     "output_type": "execute_result"
    }
   ],
   "source": [
    "ee_dense.mean()"
   ]
  },
  {
   "cell_type": "code",
   "execution_count": 8,
   "metadata": {},
   "outputs": [
    {
     "data": {
      "text/plain": [
       "17020"
      ]
     },
     "execution_count": 8,
     "metadata": {},
     "output_type": "execute_result"
    }
   ],
   "source": [
    "len(ee_dense.loc[ee_dense['exit']==0])"
   ]
  },
  {
   "cell_type": "code",
   "execution_count": 9,
   "metadata": {},
   "outputs": [
    {
     "data": {
      "text/plain": [
       "3488"
      ]
     },
     "execution_count": 9,
     "metadata": {},
     "output_type": "execute_result"
    }
   ],
   "source": [
    "len(ee_dense.loc[(ee_dense['exit']==0) & (ee_dense['correct'] == False)])"
   ]
  },
  {
   "cell_type": "code",
   "execution_count": 10,
   "metadata": {},
   "outputs": [
    {
     "data": {
      "text/plain": [
       "17154"
      ]
     },
     "execution_count": 10,
     "metadata": {},
     "output_type": "execute_result"
    }
   ],
   "source": [
    "len(ee_dense.loc[ee_dense['exit']==1])"
   ]
  },
  {
   "cell_type": "code",
   "execution_count": 11,
   "metadata": {},
   "outputs": [
    {
     "data": {
      "text/plain": [
       "6728"
      ]
     },
     "execution_count": 11,
     "metadata": {},
     "output_type": "execute_result"
    }
   ],
   "source": [
    "len(ee_dense.loc[ee_dense['exit']==2])"
   ]
  },
  {
   "cell_type": "code",
   "execution_count": 12,
   "metadata": {},
   "outputs": [
    {
     "data": {
      "text/plain": [
       "4097"
      ]
     },
     "execution_count": 12,
     "metadata": {},
     "output_type": "execute_result"
    }
   ],
   "source": [
    "len(ee_dense.loc[ee_dense['exit']==3])"
   ]
  },
  {
   "cell_type": "code",
   "execution_count": 13,
   "metadata": {},
   "outputs": [
    {
     "data": {
      "text/plain": [
       "1759"
      ]
     },
     "execution_count": 13,
     "metadata": {},
     "output_type": "execute_result"
    }
   ],
   "source": [
    "len(ee_dense.loc[(ee_dense['exit']==3) & (ee_dense['correct'] == False)])"
   ]
  },
  {
   "cell_type": "code",
   "execution_count": 14,
   "metadata": {},
   "outputs": [
    {
     "data": {
      "text/plain": [
       "8985"
      ]
     },
     "execution_count": 14,
     "metadata": {},
     "output_type": "execute_result"
    }
   ],
   "source": [
    "len(ee_dense.loc[(ee_dense['correct'] == False)])"
   ]
  },
  {
   "cell_type": "code",
   "execution_count": 16,
   "metadata": {},
   "outputs": [
    {
     "data": {
      "text/html": [
       "<div>\n",
       "<style scoped>\n",
       "    .dataframe tbody tr th:only-of-type {\n",
       "        vertical-align: middle;\n",
       "    }\n",
       "\n",
       "    .dataframe tbody tr th {\n",
       "        vertical-align: top;\n",
       "    }\n",
       "\n",
       "    .dataframe thead th {\n",
       "        text-align: right;\n",
       "    }\n",
       "</style>\n",
       "<table border=\"1\" class=\"dataframe\">\n",
       "  <thead>\n",
       "    <tr style=\"text-align: right;\">\n",
       "      <th></th>\n",
       "      <th>Mean Accuracy</th>\n",
       "      <th>Mean Time</th>\n",
       "    </tr>\n",
       "  </thead>\n",
       "  <tbody>\n",
       "    <tr>\n",
       "      <th>0.1</th>\n",
       "      <td>0.656531</td>\n",
       "      <td>0.021872</td>\n",
       "    </tr>\n",
       "    <tr>\n",
       "      <th>0.2</th>\n",
       "      <td>0.724800</td>\n",
       "      <td>0.025096</td>\n",
       "    </tr>\n",
       "    <tr>\n",
       "      <th>0.3</th>\n",
       "      <td>0.766200</td>\n",
       "      <td>0.027767</td>\n",
       "    </tr>\n",
       "    <tr>\n",
       "      <th>0.4</th>\n",
       "      <td>0.796200</td>\n",
       "      <td>0.030118</td>\n",
       "    </tr>\n",
       "    <tr>\n",
       "      <th>0.5</th>\n",
       "      <td>0.823600</td>\n",
       "      <td>0.032195</td>\n",
       "    </tr>\n",
       "    <tr>\n",
       "      <th>0.6</th>\n",
       "      <td>0.841000</td>\n",
       "      <td>0.034569</td>\n",
       "    </tr>\n",
       "    <tr>\n",
       "      <th>0.7</th>\n",
       "      <td>0.854000</td>\n",
       "      <td>0.036443</td>\n",
       "    </tr>\n",
       "    <tr>\n",
       "      <th>0.8</th>\n",
       "      <td>0.866200</td>\n",
       "      <td>0.038817</td>\n",
       "    </tr>\n",
       "    <tr>\n",
       "      <th>0.9</th>\n",
       "      <td>0.874400</td>\n",
       "      <td>0.042203</td>\n",
       "    </tr>\n",
       "  </tbody>\n",
       "</table>\n",
       "</div>"
      ],
      "text/plain": [
       "     Mean Accuracy  Mean Time\n",
       "0.1       0.656531   0.021872\n",
       "0.2       0.724800   0.025096\n",
       "0.3       0.766200   0.027767\n",
       "0.4       0.796200   0.030118\n",
       "0.5       0.823600   0.032195\n",
       "0.6       0.841000   0.034569\n",
       "0.7       0.854000   0.036443\n",
       "0.8       0.866200   0.038817\n",
       "0.9       0.874400   0.042203"
      ]
     },
     "execution_count": 16,
     "metadata": {},
     "output_type": "execute_result"
    }
   ],
   "source": [
    "arr = []\n",
    "\n",
    "x = [0.1,0.2,0.3,0.4,0.5,0.6,0.7,0.8,0.9]\n",
    "\n",
    "for i in ee_dense.groupby(['threshold']):\n",
    "    tmp = i[1].mean()\n",
    "    arr.append((tmp.correct, tmp.time))\n",
    "\n",
    "#sns.lineplot(data=i[1].mean().correct)\n",
    "ee_dense_stats = pd.DataFrame(arr, columns=[\"Mean Accuracy\", \"Mean Time\"], index=[0.1,0.2,0.3,0.4,0.5,0.6,0.7,0.8,0.9])\n",
    "ee_dense_stats"
   ]
  },
  {
   "cell_type": "markdown",
   "metadata": {},
   "source": [
    "# ResNet"
   ]
  },
  {
   "cell_type": "code",
   "execution_count": 18,
   "metadata": {
    "scrolled": true
   },
   "outputs": [
    {
     "data": {
      "text/html": [
       "<div>\n",
       "<style scoped>\n",
       "    .dataframe tbody tr th:only-of-type {\n",
       "        vertical-align: middle;\n",
       "    }\n",
       "\n",
       "    .dataframe tbody tr th {\n",
       "        vertical-align: top;\n",
       "    }\n",
       "\n",
       "    .dataframe thead th {\n",
       "        text-align: right;\n",
       "    }\n",
       "</style>\n",
       "<table border=\"1\" class=\"dataframe\">\n",
       "  <thead>\n",
       "    <tr style=\"text-align: right;\">\n",
       "      <th></th>\n",
       "      <th>threshold</th>\n",
       "      <th>exit</th>\n",
       "      <th>prediction</th>\n",
       "      <th>target</th>\n",
       "      <th>correct</th>\n",
       "      <th>score_margin</th>\n",
       "      <th>time</th>\n",
       "    </tr>\n",
       "  </thead>\n",
       "  <tbody>\n",
       "    <tr>\n",
       "      <th>0</th>\n",
       "      <td>0.1</td>\n",
       "      <td>0</td>\n",
       "      <td>0</td>\n",
       "      <td>0</td>\n",
       "      <td>1</td>\n",
       "      <td>0.204359</td>\n",
       "      <td>0.977127</td>\n",
       "    </tr>\n",
       "    <tr>\n",
       "      <th>1</th>\n",
       "      <td>0.1</td>\n",
       "      <td>0</td>\n",
       "      <td>0</td>\n",
       "      <td>0</td>\n",
       "      <td>1</td>\n",
       "      <td>0.989505</td>\n",
       "      <td>0.014066</td>\n",
       "    </tr>\n",
       "    <tr>\n",
       "      <th>2</th>\n",
       "      <td>0.1</td>\n",
       "      <td>0</td>\n",
       "      <td>0</td>\n",
       "      <td>0</td>\n",
       "      <td>1</td>\n",
       "      <td>0.357393</td>\n",
       "      <td>0.014050</td>\n",
       "    </tr>\n",
       "    <tr>\n",
       "      <th>3</th>\n",
       "      <td>0.1</td>\n",
       "      <td>0</td>\n",
       "      <td>0</td>\n",
       "      <td>0</td>\n",
       "      <td>1</td>\n",
       "      <td>0.870633</td>\n",
       "      <td>0.012749</td>\n",
       "    </tr>\n",
       "    <tr>\n",
       "      <th>4</th>\n",
       "      <td>0.1</td>\n",
       "      <td>0</td>\n",
       "      <td>0</td>\n",
       "      <td>0</td>\n",
       "      <td>1</td>\n",
       "      <td>0.660327</td>\n",
       "      <td>0.013005</td>\n",
       "    </tr>\n",
       "    <tr>\n",
       "      <th>5</th>\n",
       "      <td>0.1</td>\n",
       "      <td>0</td>\n",
       "      <td>0</td>\n",
       "      <td>0</td>\n",
       "      <td>1</td>\n",
       "      <td>0.799488</td>\n",
       "      <td>0.012808</td>\n",
       "    </tr>\n",
       "    <tr>\n",
       "      <th>6</th>\n",
       "      <td>0.1</td>\n",
       "      <td>0</td>\n",
       "      <td>0</td>\n",
       "      <td>0</td>\n",
       "      <td>1</td>\n",
       "      <td>0.999894</td>\n",
       "      <td>0.013275</td>\n",
       "    </tr>\n",
       "    <tr>\n",
       "      <th>7</th>\n",
       "      <td>0.1</td>\n",
       "      <td>0</td>\n",
       "      <td>0</td>\n",
       "      <td>0</td>\n",
       "      <td>1</td>\n",
       "      <td>0.998322</td>\n",
       "      <td>0.012334</td>\n",
       "    </tr>\n",
       "    <tr>\n",
       "      <th>8</th>\n",
       "      <td>0.1</td>\n",
       "      <td>1</td>\n",
       "      <td>0</td>\n",
       "      <td>0</td>\n",
       "      <td>1</td>\n",
       "      <td>0.962256</td>\n",
       "      <td>0.019159</td>\n",
       "    </tr>\n",
       "    <tr>\n",
       "      <th>9</th>\n",
       "      <td>0.1</td>\n",
       "      <td>0</td>\n",
       "      <td>92</td>\n",
       "      <td>0</td>\n",
       "      <td>0</td>\n",
       "      <td>0.110625</td>\n",
       "      <td>0.011794</td>\n",
       "    </tr>\n",
       "    <tr>\n",
       "      <th>10</th>\n",
       "      <td>0.1</td>\n",
       "      <td>0</td>\n",
       "      <td>0</td>\n",
       "      <td>0</td>\n",
       "      <td>1</td>\n",
       "      <td>0.999308</td>\n",
       "      <td>0.011850</td>\n",
       "    </tr>\n",
       "    <tr>\n",
       "      <th>11</th>\n",
       "      <td>0.1</td>\n",
       "      <td>1</td>\n",
       "      <td>0</td>\n",
       "      <td>0</td>\n",
       "      <td>1</td>\n",
       "      <td>0.966903</td>\n",
       "      <td>0.018340</td>\n",
       "    </tr>\n",
       "    <tr>\n",
       "      <th>12</th>\n",
       "      <td>0.1</td>\n",
       "      <td>0</td>\n",
       "      <td>0</td>\n",
       "      <td>0</td>\n",
       "      <td>1</td>\n",
       "      <td>0.999629</td>\n",
       "      <td>0.012500</td>\n",
       "    </tr>\n",
       "    <tr>\n",
       "      <th>13</th>\n",
       "      <td>0.1</td>\n",
       "      <td>0</td>\n",
       "      <td>0</td>\n",
       "      <td>0</td>\n",
       "      <td>1</td>\n",
       "      <td>0.591016</td>\n",
       "      <td>0.012824</td>\n",
       "    </tr>\n",
       "    <tr>\n",
       "      <th>14</th>\n",
       "      <td>0.1</td>\n",
       "      <td>1</td>\n",
       "      <td>0</td>\n",
       "      <td>0</td>\n",
       "      <td>1</td>\n",
       "      <td>0.953795</td>\n",
       "      <td>0.018544</td>\n",
       "    </tr>\n",
       "    <tr>\n",
       "      <th>15</th>\n",
       "      <td>0.1</td>\n",
       "      <td>0</td>\n",
       "      <td>0</td>\n",
       "      <td>0</td>\n",
       "      <td>1</td>\n",
       "      <td>0.587604</td>\n",
       "      <td>0.012731</td>\n",
       "    </tr>\n",
       "    <tr>\n",
       "      <th>16</th>\n",
       "      <td>0.1</td>\n",
       "      <td>0</td>\n",
       "      <td>13</td>\n",
       "      <td>0</td>\n",
       "      <td>0</td>\n",
       "      <td>0.173562</td>\n",
       "      <td>0.012756</td>\n",
       "    </tr>\n",
       "    <tr>\n",
       "      <th>17</th>\n",
       "      <td>0.1</td>\n",
       "      <td>0</td>\n",
       "      <td>92</td>\n",
       "      <td>0</td>\n",
       "      <td>0</td>\n",
       "      <td>0.109164</td>\n",
       "      <td>0.012948</td>\n",
       "    </tr>\n",
       "    <tr>\n",
       "      <th>18</th>\n",
       "      <td>0.1</td>\n",
       "      <td>0</td>\n",
       "      <td>0</td>\n",
       "      <td>0</td>\n",
       "      <td>1</td>\n",
       "      <td>0.982343</td>\n",
       "      <td>0.013970</td>\n",
       "    </tr>\n",
       "    <tr>\n",
       "      <th>19</th>\n",
       "      <td>0.1</td>\n",
       "      <td>1</td>\n",
       "      <td>0</td>\n",
       "      <td>0</td>\n",
       "      <td>1</td>\n",
       "      <td>0.585514</td>\n",
       "      <td>0.018942</td>\n",
       "    </tr>\n",
       "    <tr>\n",
       "      <th>20</th>\n",
       "      <td>0.1</td>\n",
       "      <td>0</td>\n",
       "      <td>0</td>\n",
       "      <td>0</td>\n",
       "      <td>1</td>\n",
       "      <td>0.992415</td>\n",
       "      <td>0.012744</td>\n",
       "    </tr>\n",
       "    <tr>\n",
       "      <th>21</th>\n",
       "      <td>0.1</td>\n",
       "      <td>0</td>\n",
       "      <td>0</td>\n",
       "      <td>0</td>\n",
       "      <td>1</td>\n",
       "      <td>0.778268</td>\n",
       "      <td>0.012696</td>\n",
       "    </tr>\n",
       "    <tr>\n",
       "      <th>22</th>\n",
       "      <td>0.1</td>\n",
       "      <td>0</td>\n",
       "      <td>0</td>\n",
       "      <td>0</td>\n",
       "      <td>1</td>\n",
       "      <td>0.994372</td>\n",
       "      <td>0.013689</td>\n",
       "    </tr>\n",
       "    <tr>\n",
       "      <th>23</th>\n",
       "      <td>0.1</td>\n",
       "      <td>0</td>\n",
       "      <td>0</td>\n",
       "      <td>0</td>\n",
       "      <td>1</td>\n",
       "      <td>0.506668</td>\n",
       "      <td>0.012784</td>\n",
       "    </tr>\n",
       "    <tr>\n",
       "      <th>24</th>\n",
       "      <td>0.1</td>\n",
       "      <td>0</td>\n",
       "      <td>0</td>\n",
       "      <td>0</td>\n",
       "      <td>1</td>\n",
       "      <td>0.985607</td>\n",
       "      <td>0.013649</td>\n",
       "    </tr>\n",
       "    <tr>\n",
       "      <th>25</th>\n",
       "      <td>0.1</td>\n",
       "      <td>0</td>\n",
       "      <td>0</td>\n",
       "      <td>0</td>\n",
       "      <td>1</td>\n",
       "      <td>0.734526</td>\n",
       "      <td>0.012879</td>\n",
       "    </tr>\n",
       "    <tr>\n",
       "      <th>26</th>\n",
       "      <td>0.1</td>\n",
       "      <td>0</td>\n",
       "      <td>92</td>\n",
       "      <td>0</td>\n",
       "      <td>0</td>\n",
       "      <td>0.245885</td>\n",
       "      <td>0.013256</td>\n",
       "    </tr>\n",
       "    <tr>\n",
       "      <th>27</th>\n",
       "      <td>0.1</td>\n",
       "      <td>0</td>\n",
       "      <td>92</td>\n",
       "      <td>0</td>\n",
       "      <td>0</td>\n",
       "      <td>0.151710</td>\n",
       "      <td>0.012962</td>\n",
       "    </tr>\n",
       "    <tr>\n",
       "      <th>28</th>\n",
       "      <td>0.1</td>\n",
       "      <td>0</td>\n",
       "      <td>0</td>\n",
       "      <td>0</td>\n",
       "      <td>1</td>\n",
       "      <td>0.664918</td>\n",
       "      <td>0.013455</td>\n",
       "    </tr>\n",
       "    <tr>\n",
       "      <th>29</th>\n",
       "      <td>0.1</td>\n",
       "      <td>0</td>\n",
       "      <td>0</td>\n",
       "      <td>0</td>\n",
       "      <td>1</td>\n",
       "      <td>0.971619</td>\n",
       "      <td>0.012947</td>\n",
       "    </tr>\n",
       "    <tr>\n",
       "      <th>...</th>\n",
       "      <td>...</td>\n",
       "      <td>...</td>\n",
       "      <td>...</td>\n",
       "      <td>...</td>\n",
       "      <td>...</td>\n",
       "      <td>...</td>\n",
       "      <td>...</td>\n",
       "    </tr>\n",
       "    <tr>\n",
       "      <th>44970</th>\n",
       "      <td>0.9</td>\n",
       "      <td>3</td>\n",
       "      <td>99</td>\n",
       "      <td>99</td>\n",
       "      <td>1</td>\n",
       "      <td>0.963496</td>\n",
       "      <td>0.051016</td>\n",
       "    </tr>\n",
       "    <tr>\n",
       "      <th>44971</th>\n",
       "      <td>0.9</td>\n",
       "      <td>3</td>\n",
       "      <td>99</td>\n",
       "      <td>99</td>\n",
       "      <td>1</td>\n",
       "      <td>0.992258</td>\n",
       "      <td>0.047873</td>\n",
       "    </tr>\n",
       "    <tr>\n",
       "      <th>44972</th>\n",
       "      <td>0.9</td>\n",
       "      <td>3</td>\n",
       "      <td>39</td>\n",
       "      <td>99</td>\n",
       "      <td>0</td>\n",
       "      <td>0.618287</td>\n",
       "      <td>0.053068</td>\n",
       "    </tr>\n",
       "    <tr>\n",
       "      <th>44973</th>\n",
       "      <td>0.9</td>\n",
       "      <td>2</td>\n",
       "      <td>99</td>\n",
       "      <td>99</td>\n",
       "      <td>1</td>\n",
       "      <td>1.000000</td>\n",
       "      <td>0.047886</td>\n",
       "    </tr>\n",
       "    <tr>\n",
       "      <th>44974</th>\n",
       "      <td>0.9</td>\n",
       "      <td>2</td>\n",
       "      <td>99</td>\n",
       "      <td>99</td>\n",
       "      <td>1</td>\n",
       "      <td>0.997902</td>\n",
       "      <td>0.042325</td>\n",
       "    </tr>\n",
       "    <tr>\n",
       "      <th>44975</th>\n",
       "      <td>0.9</td>\n",
       "      <td>2</td>\n",
       "      <td>99</td>\n",
       "      <td>99</td>\n",
       "      <td>1</td>\n",
       "      <td>0.995079</td>\n",
       "      <td>0.047108</td>\n",
       "    </tr>\n",
       "    <tr>\n",
       "      <th>44976</th>\n",
       "      <td>0.9</td>\n",
       "      <td>2</td>\n",
       "      <td>99</td>\n",
       "      <td>99</td>\n",
       "      <td>1</td>\n",
       "      <td>0.999957</td>\n",
       "      <td>0.049006</td>\n",
       "    </tr>\n",
       "    <tr>\n",
       "      <th>44977</th>\n",
       "      <td>0.9</td>\n",
       "      <td>2</td>\n",
       "      <td>99</td>\n",
       "      <td>99</td>\n",
       "      <td>1</td>\n",
       "      <td>0.999948</td>\n",
       "      <td>0.043730</td>\n",
       "    </tr>\n",
       "    <tr>\n",
       "      <th>44978</th>\n",
       "      <td>0.9</td>\n",
       "      <td>2</td>\n",
       "      <td>99</td>\n",
       "      <td>99</td>\n",
       "      <td>1</td>\n",
       "      <td>0.982726</td>\n",
       "      <td>0.044835</td>\n",
       "    </tr>\n",
       "    <tr>\n",
       "      <th>44979</th>\n",
       "      <td>0.9</td>\n",
       "      <td>3</td>\n",
       "      <td>82</td>\n",
       "      <td>99</td>\n",
       "      <td>0</td>\n",
       "      <td>0.280264</td>\n",
       "      <td>0.048781</td>\n",
       "    </tr>\n",
       "    <tr>\n",
       "      <th>44980</th>\n",
       "      <td>0.9</td>\n",
       "      <td>2</td>\n",
       "      <td>99</td>\n",
       "      <td>99</td>\n",
       "      <td>1</td>\n",
       "      <td>0.999976</td>\n",
       "      <td>0.045925</td>\n",
       "    </tr>\n",
       "    <tr>\n",
       "      <th>44981</th>\n",
       "      <td>0.9</td>\n",
       "      <td>2</td>\n",
       "      <td>99</td>\n",
       "      <td>99</td>\n",
       "      <td>1</td>\n",
       "      <td>0.999775</td>\n",
       "      <td>0.043624</td>\n",
       "    </tr>\n",
       "    <tr>\n",
       "      <th>44982</th>\n",
       "      <td>0.9</td>\n",
       "      <td>3</td>\n",
       "      <td>48</td>\n",
       "      <td>99</td>\n",
       "      <td>0</td>\n",
       "      <td>0.443463</td>\n",
       "      <td>0.053955</td>\n",
       "    </tr>\n",
       "    <tr>\n",
       "      <th>44983</th>\n",
       "      <td>0.9</td>\n",
       "      <td>2</td>\n",
       "      <td>99</td>\n",
       "      <td>99</td>\n",
       "      <td>1</td>\n",
       "      <td>0.999776</td>\n",
       "      <td>0.043497</td>\n",
       "    </tr>\n",
       "    <tr>\n",
       "      <th>44984</th>\n",
       "      <td>0.9</td>\n",
       "      <td>2</td>\n",
       "      <td>99</td>\n",
       "      <td>99</td>\n",
       "      <td>1</td>\n",
       "      <td>0.989836</td>\n",
       "      <td>0.043062</td>\n",
       "    </tr>\n",
       "    <tr>\n",
       "      <th>44985</th>\n",
       "      <td>0.9</td>\n",
       "      <td>3</td>\n",
       "      <td>6</td>\n",
       "      <td>99</td>\n",
       "      <td>0</td>\n",
       "      <td>0.405069</td>\n",
       "      <td>0.049250</td>\n",
       "    </tr>\n",
       "    <tr>\n",
       "      <th>44986</th>\n",
       "      <td>0.9</td>\n",
       "      <td>2</td>\n",
       "      <td>99</td>\n",
       "      <td>99</td>\n",
       "      <td>1</td>\n",
       "      <td>0.991174</td>\n",
       "      <td>0.045396</td>\n",
       "    </tr>\n",
       "    <tr>\n",
       "      <th>44987</th>\n",
       "      <td>0.9</td>\n",
       "      <td>3</td>\n",
       "      <td>6</td>\n",
       "      <td>99</td>\n",
       "      <td>0</td>\n",
       "      <td>0.849632</td>\n",
       "      <td>0.047440</td>\n",
       "    </tr>\n",
       "    <tr>\n",
       "      <th>44988</th>\n",
       "      <td>0.9</td>\n",
       "      <td>3</td>\n",
       "      <td>99</td>\n",
       "      <td>99</td>\n",
       "      <td>1</td>\n",
       "      <td>0.637768</td>\n",
       "      <td>0.052156</td>\n",
       "    </tr>\n",
       "    <tr>\n",
       "      <th>44989</th>\n",
       "      <td>0.9</td>\n",
       "      <td>3</td>\n",
       "      <td>99</td>\n",
       "      <td>99</td>\n",
       "      <td>1</td>\n",
       "      <td>0.874186</td>\n",
       "      <td>0.046933</td>\n",
       "    </tr>\n",
       "    <tr>\n",
       "      <th>44990</th>\n",
       "      <td>0.9</td>\n",
       "      <td>2</td>\n",
       "      <td>99</td>\n",
       "      <td>99</td>\n",
       "      <td>1</td>\n",
       "      <td>0.918890</td>\n",
       "      <td>0.041346</td>\n",
       "    </tr>\n",
       "    <tr>\n",
       "      <th>44991</th>\n",
       "      <td>0.9</td>\n",
       "      <td>2</td>\n",
       "      <td>99</td>\n",
       "      <td>99</td>\n",
       "      <td>1</td>\n",
       "      <td>0.999996</td>\n",
       "      <td>0.043498</td>\n",
       "    </tr>\n",
       "    <tr>\n",
       "      <th>44992</th>\n",
       "      <td>0.9</td>\n",
       "      <td>3</td>\n",
       "      <td>62</td>\n",
       "      <td>99</td>\n",
       "      <td>0</td>\n",
       "      <td>0.972721</td>\n",
       "      <td>0.051521</td>\n",
       "    </tr>\n",
       "    <tr>\n",
       "      <th>44993</th>\n",
       "      <td>0.9</td>\n",
       "      <td>2</td>\n",
       "      <td>99</td>\n",
       "      <td>99</td>\n",
       "      <td>1</td>\n",
       "      <td>0.999403</td>\n",
       "      <td>0.042267</td>\n",
       "    </tr>\n",
       "    <tr>\n",
       "      <th>44994</th>\n",
       "      <td>0.9</td>\n",
       "      <td>2</td>\n",
       "      <td>99</td>\n",
       "      <td>99</td>\n",
       "      <td>1</td>\n",
       "      <td>0.999166</td>\n",
       "      <td>0.043203</td>\n",
       "    </tr>\n",
       "    <tr>\n",
       "      <th>44995</th>\n",
       "      <td>0.9</td>\n",
       "      <td>2</td>\n",
       "      <td>99</td>\n",
       "      <td>99</td>\n",
       "      <td>1</td>\n",
       "      <td>0.999986</td>\n",
       "      <td>0.047860</td>\n",
       "    </tr>\n",
       "    <tr>\n",
       "      <th>44996</th>\n",
       "      <td>0.9</td>\n",
       "      <td>2</td>\n",
       "      <td>99</td>\n",
       "      <td>99</td>\n",
       "      <td>1</td>\n",
       "      <td>0.934735</td>\n",
       "      <td>0.043598</td>\n",
       "    </tr>\n",
       "    <tr>\n",
       "      <th>44997</th>\n",
       "      <td>0.9</td>\n",
       "      <td>2</td>\n",
       "      <td>99</td>\n",
       "      <td>99</td>\n",
       "      <td>1</td>\n",
       "      <td>0.999788</td>\n",
       "      <td>0.044869</td>\n",
       "    </tr>\n",
       "    <tr>\n",
       "      <th>44998</th>\n",
       "      <td>0.9</td>\n",
       "      <td>2</td>\n",
       "      <td>99</td>\n",
       "      <td>99</td>\n",
       "      <td>1</td>\n",
       "      <td>1.000000</td>\n",
       "      <td>0.044711</td>\n",
       "    </tr>\n",
       "    <tr>\n",
       "      <th>44999</th>\n",
       "      <td>0.9</td>\n",
       "      <td>2</td>\n",
       "      <td>99</td>\n",
       "      <td>99</td>\n",
       "      <td>1</td>\n",
       "      <td>0.998888</td>\n",
       "      <td>0.048476</td>\n",
       "    </tr>\n",
       "  </tbody>\n",
       "</table>\n",
       "<p>45000 rows × 7 columns</p>\n",
       "</div>"
      ],
      "text/plain": [
       "       threshold  exit  prediction  target  correct  score_margin      time\n",
       "0            0.1     0           0       0        1      0.204359  0.977127\n",
       "1            0.1     0           0       0        1      0.989505  0.014066\n",
       "2            0.1     0           0       0        1      0.357393  0.014050\n",
       "3            0.1     0           0       0        1      0.870633  0.012749\n",
       "4            0.1     0           0       0        1      0.660327  0.013005\n",
       "5            0.1     0           0       0        1      0.799488  0.012808\n",
       "6            0.1     0           0       0        1      0.999894  0.013275\n",
       "7            0.1     0           0       0        1      0.998322  0.012334\n",
       "8            0.1     1           0       0        1      0.962256  0.019159\n",
       "9            0.1     0          92       0        0      0.110625  0.011794\n",
       "10           0.1     0           0       0        1      0.999308  0.011850\n",
       "11           0.1     1           0       0        1      0.966903  0.018340\n",
       "12           0.1     0           0       0        1      0.999629  0.012500\n",
       "13           0.1     0           0       0        1      0.591016  0.012824\n",
       "14           0.1     1           0       0        1      0.953795  0.018544\n",
       "15           0.1     0           0       0        1      0.587604  0.012731\n",
       "16           0.1     0          13       0        0      0.173562  0.012756\n",
       "17           0.1     0          92       0        0      0.109164  0.012948\n",
       "18           0.1     0           0       0        1      0.982343  0.013970\n",
       "19           0.1     1           0       0        1      0.585514  0.018942\n",
       "20           0.1     0           0       0        1      0.992415  0.012744\n",
       "21           0.1     0           0       0        1      0.778268  0.012696\n",
       "22           0.1     0           0       0        1      0.994372  0.013689\n",
       "23           0.1     0           0       0        1      0.506668  0.012784\n",
       "24           0.1     0           0       0        1      0.985607  0.013649\n",
       "25           0.1     0           0       0        1      0.734526  0.012879\n",
       "26           0.1     0          92       0        0      0.245885  0.013256\n",
       "27           0.1     0          92       0        0      0.151710  0.012962\n",
       "28           0.1     0           0       0        1      0.664918  0.013455\n",
       "29           0.1     0           0       0        1      0.971619  0.012947\n",
       "...          ...   ...         ...     ...      ...           ...       ...\n",
       "44970        0.9     3          99      99        1      0.963496  0.051016\n",
       "44971        0.9     3          99      99        1      0.992258  0.047873\n",
       "44972        0.9     3          39      99        0      0.618287  0.053068\n",
       "44973        0.9     2          99      99        1      1.000000  0.047886\n",
       "44974        0.9     2          99      99        1      0.997902  0.042325\n",
       "44975        0.9     2          99      99        1      0.995079  0.047108\n",
       "44976        0.9     2          99      99        1      0.999957  0.049006\n",
       "44977        0.9     2          99      99        1      0.999948  0.043730\n",
       "44978        0.9     2          99      99        1      0.982726  0.044835\n",
       "44979        0.9     3          82      99        0      0.280264  0.048781\n",
       "44980        0.9     2          99      99        1      0.999976  0.045925\n",
       "44981        0.9     2          99      99        1      0.999775  0.043624\n",
       "44982        0.9     3          48      99        0      0.443463  0.053955\n",
       "44983        0.9     2          99      99        1      0.999776  0.043497\n",
       "44984        0.9     2          99      99        1      0.989836  0.043062\n",
       "44985        0.9     3           6      99        0      0.405069  0.049250\n",
       "44986        0.9     2          99      99        1      0.991174  0.045396\n",
       "44987        0.9     3           6      99        0      0.849632  0.047440\n",
       "44988        0.9     3          99      99        1      0.637768  0.052156\n",
       "44989        0.9     3          99      99        1      0.874186  0.046933\n",
       "44990        0.9     2          99      99        1      0.918890  0.041346\n",
       "44991        0.9     2          99      99        1      0.999996  0.043498\n",
       "44992        0.9     3          62      99        0      0.972721  0.051521\n",
       "44993        0.9     2          99      99        1      0.999403  0.042267\n",
       "44994        0.9     2          99      99        1      0.999166  0.043203\n",
       "44995        0.9     2          99      99        1      0.999986  0.047860\n",
       "44996        0.9     2          99      99        1      0.934735  0.043598\n",
       "44997        0.9     2          99      99        1      0.999788  0.044869\n",
       "44998        0.9     2          99      99        1      1.000000  0.044711\n",
       "44999        0.9     2          99      99        1      0.998888  0.048476\n",
       "\n",
       "[45000 rows x 7 columns]"
      ]
     },
     "execution_count": 18,
     "metadata": {},
     "output_type": "execute_result"
    }
   ],
   "source": [
    "ee_res = pd.read_csv('resnet101_all_inference_test.csv', index_col=0)\n",
    "co_res = pd.read_csv('resnet_conv_inference_test.csv', index_col=0)\n",
    "ee_res.correct = ee_res.correct.astype(int)\n",
    "ee_res"
   ]
  },
  {
   "cell_type": "code",
   "execution_count": 19,
   "metadata": {},
   "outputs": [
    {
     "data": {
      "text/plain": [
       "0.04474636967999995"
      ]
     },
     "execution_count": 19,
     "metadata": {},
     "output_type": "execute_result"
    }
   ],
   "source": [
    "co_res.mean().time"
   ]
  },
  {
   "cell_type": "code",
   "execution_count": null,
   "metadata": {},
   "outputs": [],
   "source": []
  },
  {
   "cell_type": "code",
   "execution_count": 20,
   "metadata": {},
   "outputs": [],
   "source": [
    "ee_res = ee_res.to_numpy()"
   ]
  },
  {
   "cell_type": "code",
   "execution_count": 22,
   "metadata": {},
   "outputs": [],
   "source": [
    "ee_res = pd.DataFrame(ee_res[1:], columns=['threshold', 'exit', 'prediction', 'target', 'correct', 'score', 'time'])"
   ]
  },
  {
   "cell_type": "code",
   "execution_count": 23,
   "metadata": {},
   "outputs": [
    {
     "data": {
      "text/html": [
       "<div>\n",
       "<style scoped>\n",
       "    .dataframe tbody tr th:only-of-type {\n",
       "        vertical-align: middle;\n",
       "    }\n",
       "\n",
       "    .dataframe tbody tr th {\n",
       "        vertical-align: top;\n",
       "    }\n",
       "\n",
       "    .dataframe thead th {\n",
       "        text-align: right;\n",
       "    }\n",
       "</style>\n",
       "<table border=\"1\" class=\"dataframe\">\n",
       "  <thead>\n",
       "    <tr style=\"text-align: right;\">\n",
       "      <th></th>\n",
       "      <th>Mean Accuracy</th>\n",
       "      <th>Mean Time</th>\n",
       "    </tr>\n",
       "  </thead>\n",
       "  <tbody>\n",
       "    <tr>\n",
       "      <th>0.1</th>\n",
       "      <td>0.645729</td>\n",
       "      <td>0.017184</td>\n",
       "    </tr>\n",
       "    <tr>\n",
       "      <th>0.2</th>\n",
       "      <td>0.735200</td>\n",
       "      <td>0.021034</td>\n",
       "    </tr>\n",
       "    <tr>\n",
       "      <th>0.3</th>\n",
       "      <td>0.788400</td>\n",
       "      <td>0.023683</td>\n",
       "    </tr>\n",
       "    <tr>\n",
       "      <th>0.4</th>\n",
       "      <td>0.822600</td>\n",
       "      <td>0.026222</td>\n",
       "    </tr>\n",
       "    <tr>\n",
       "      <th>0.5</th>\n",
       "      <td>0.848800</td>\n",
       "      <td>0.028200</td>\n",
       "    </tr>\n",
       "    <tr>\n",
       "      <th>0.6</th>\n",
       "      <td>0.866200</td>\n",
       "      <td>0.029933</td>\n",
       "    </tr>\n",
       "    <tr>\n",
       "      <th>0.7</th>\n",
       "      <td>0.875400</td>\n",
       "      <td>0.032040</td>\n",
       "    </tr>\n",
       "    <tr>\n",
       "      <th>0.8</th>\n",
       "      <td>0.884200</td>\n",
       "      <td>0.033742</td>\n",
       "    </tr>\n",
       "    <tr>\n",
       "      <th>0.9</th>\n",
       "      <td>0.890200</td>\n",
       "      <td>0.036733</td>\n",
       "    </tr>\n",
       "  </tbody>\n",
       "</table>\n",
       "</div>"
      ],
      "text/plain": [
       "     Mean Accuracy  Mean Time\n",
       "0.1       0.645729   0.017184\n",
       "0.2       0.735200   0.021034\n",
       "0.3       0.788400   0.023683\n",
       "0.4       0.822600   0.026222\n",
       "0.5       0.848800   0.028200\n",
       "0.6       0.866200   0.029933\n",
       "0.7       0.875400   0.032040\n",
       "0.8       0.884200   0.033742\n",
       "0.9       0.890200   0.036733"
      ]
     },
     "execution_count": 23,
     "metadata": {},
     "output_type": "execute_result"
    }
   ],
   "source": [
    "arr = []\n",
    "\n",
    "x = [0.1,0.2,0.3,0.4,0.5,0.6,0.7,0.8,0.9]\n",
    "\n",
    "for i in ee_res.groupby(['threshold']):\n",
    "    tmp = i[1].mean()\n",
    "    arr.append((tmp.correct, tmp.time))\n",
    "\n",
    "#sns.lineplot(data=i[1].mean().correct)\n",
    "ee_res_stats = pd.DataFrame(arr, columns=[\"Mean Accuracy\", \"Mean Time\"], index=[0.1,0.2,0.3,0.4,0.5,0.6,0.7,0.8,0.9])\n",
    "ee_res_stats"
   ]
  },
  {
   "cell_type": "code",
   "execution_count": 46,
   "metadata": {},
   "outputs": [
    {
     "data": {
      "image/png": "[encoded data removed]",
      "text/plain": [
       "<Figure size 720x72 with 1 Axes>"
      ]
     },
     "metadata": {},
     "output_type": "display_data"
    }
   ],
   "source": [
    "current_palette = sns.color_palette()\n",
    "sns.palplot(current_palette)"
   ]
  },
  {
   "cell_type": "code",
   "execution_count": 76,
   "metadata": {},
   "outputs": [
    {
     "data": {
      "text/plain": [
       "<matplotlib.legend.Legend at 0x7fbb21b4f0b8>"
      ]
     },
     "execution_count": 76,
     "metadata": {},
     "output_type": "execute_result"
    },
    {
     "data": {
      "image/png": "[encoded data removed]",
      "text/plain": [
       "<Figure size 1152x648 with 2 Axes>"
      ]
     },
     "metadata": {},
     "output_type": "display_data"
    }
   ],
   "source": [
    "fig, axes = plt.subplots(2,1)\n",
    "sns.lineplot(data=ee_res_stats['Mean Accuracy'], ax=axes[0], color=current_palette[0])\n",
    "sns.lineplot(data=ee_res_stats['Mean Time'], ax=axes[1])\n",
    "\n",
    "sns.lineplot(data=ee_dense_stats['Mean Accuracy'], ax=axes[0], color=current_palette[1])\n",
    "sns.lineplot(data=ee_dense_stats['Mean Time'], ax=axes[1])\n",
    "axes[0].set_ylabel('accuracy')\n",
    "axes[1].set_ylabel('time (ms)')\n",
    "plt.xlabel('threshold')\n",
    "sns.lineplot(x=x, y=co_res.mean().correct*np.ones(9), ax=axes[0], color=current_palette[0])\n",
    "sns.lineplot(x=x, y=co_res.mean().time*np.ones(9), ax=axes[1], color=current_palette[0])\n",
    "\n",
    "#ns.lineplot(x=x, y=co_res.mean().correct*np.ones(9), ax=axes[0], dashes=True)\n",
    "#sns.lineplot(x=x, y=co_res.mean().time*np.ones(9), ax=axes[1])\n",
    "\n",
    "\n",
    "axes[0].lines[2].set_linestyle(\"--\")\n",
    "\n",
    "axes[1].lines[2].set_linestyle(\"--\")\n",
    "\n",
    "\n",
    "fig.legend(['ResNet Early Exiting', 'DenseNet Early Exiting', 'ResNet', 'DenseNet'], ncol=4, loc=\"upper center\")\n",
    "#ns.lineplot(data=arr[0], ax= axes[0])\n",
    "#sns.lineplot(data=arr[1], ax=axes[1])"
   ]
  },
  {
   "cell_type": "code",
   "execution_count": 77,
   "metadata": {},
   "outputs": [
    {
     "data": {
      "text/plain": [
       "13389"
      ]
     },
     "execution_count": 77,
     "metadata": {},
     "output_type": "execute_result"
    }
   ],
   "source": [
    "len(ee_res.loc[ee_res['exit']==0])"
   ]
  },
  {
   "cell_type": "code",
   "execution_count": 78,
   "metadata": {},
   "outputs": [
    {
     "data": {
      "text/plain": [
       "3062"
      ]
     },
     "execution_count": 78,
     "metadata": {},
     "output_type": "execute_result"
    }
   ],
   "source": [
    "len(ee_res.loc[(ee_res['exit']==0) & (ee_res['correct'] == False)])"
   ]
  },
  {
   "cell_type": "code",
   "execution_count": 79,
   "metadata": {},
   "outputs": [
    {
     "data": {
      "text/plain": [
       "14011"
      ]
     },
     "execution_count": 79,
     "metadata": {},
     "output_type": "execute_result"
    }
   ],
   "source": [
    "len(ee_res.loc[ee_res['exit']==1])"
   ]
  },
  {
   "cell_type": "code",
   "execution_count": 80,
   "metadata": {},
   "outputs": [
    {
     "data": {
      "text/plain": [
       "14136"
      ]
     },
     "execution_count": 80,
     "metadata": {},
     "output_type": "execute_result"
    }
   ],
   "source": [
    "len(ee_res.loc[ee_res['exit']==2])"
   ]
  },
  {
   "cell_type": "code",
   "execution_count": 81,
   "metadata": {},
   "outputs": [
    {
     "data": {
      "text/plain": [
       "3463"
      ]
     },
     "execution_count": 81,
     "metadata": {},
     "output_type": "execute_result"
    }
   ],
   "source": [
    "len(ee_res.loc[ee_res['exit']==3])"
   ]
  },
  {
   "cell_type": "code",
   "execution_count": 82,
   "metadata": {},
   "outputs": [
    {
     "data": {
      "text/plain": [
       "1736"
      ]
     },
     "execution_count": 82,
     "metadata": {},
     "output_type": "execute_result"
    }
   ],
   "source": [
    "len(ee_res.loc[(ee_res['exit']==3) & (ee_res['correct'] == False)])"
   ]
  },
  {
   "cell_type": "code",
   "execution_count": 83,
   "metadata": {},
   "outputs": [
    {
     "data": {
      "text/plain": [
       "8216"
      ]
     },
     "execution_count": 83,
     "metadata": {},
     "output_type": "execute_result"
    }
   ],
   "source": [
    "len(ee_res.loc[(ee_res['correct'] == False)])"
   ]
  },
  {
   "cell_type": "code",
   "execution_count": 166,
   "metadata": {},
   "outputs": [
    {
     "data": {
      "text/plain": [
       "threshold  exit\n",
       "0.1        0.0     3297\n",
       "           1.0     1252\n",
       "           2.0      424\n",
       "           3.0       26\n",
       "0.2        0.0     2456\n",
       "           1.0     1584\n",
       "           2.0      875\n",
       "           3.0       85\n",
       "0.3        0.0     1940\n",
       "           1.0     1704\n",
       "           2.0     1184\n",
       "           3.0      172\n",
       "0.4        0.0     1571\n",
       "           1.0     1717\n",
       "           2.0     1448\n",
       "           3.0      264\n",
       "0.5        0.0     1285\n",
       "           1.0     1708\n",
       "           2.0     1653\n",
       "           3.0      354\n",
       "0.6        0.0     1029\n",
       "           1.0     1673\n",
       "           2.0     1853\n",
       "           3.0      445\n",
       "0.7        0.0      828\n",
       "           1.0     1582\n",
       "           2.0     2039\n",
       "           3.0      551\n",
       "0.8        0.0      615\n",
       "           1.0     1489\n",
       "           2.0     2220\n",
       "           3.0      676\n",
       "0.9        0.0      368\n",
       "           1.0     1302\n",
       "           2.0     2440\n",
       "           3.0      890\n",
       "dtype: int64"
      ]
     },
     "execution_count": 166,
     "metadata": {},
     "output_type": "execute_result"
    }
   ],
   "source": [
    "ee_res.groupby(['threshold', 'exit']).size()"
   ]
  },
  {
   "cell_type": "code",
   "execution_count": 150,
   "metadata": {},
   "outputs": [
    {
     "data": {
      "text/html": [
       "<div>\n",
       "<style scoped>\n",
       "    .dataframe tbody tr th:only-of-type {\n",
       "        vertical-align: middle;\n",
       "    }\n",
       "\n",
       "    .dataframe tbody tr th {\n",
       "        vertical-align: top;\n",
       "    }\n",
       "\n",
       "    .dataframe thead th {\n",
       "        text-align: right;\n",
       "    }\n",
       "</style>\n",
       "<table border=\"1\" class=\"dataframe\">\n",
       "  <thead>\n",
       "    <tr style=\"text-align: right;\">\n",
       "      <th></th>\n",
       "      <th>idx</th>\n",
       "      <th>dfs</th>\n",
       "    </tr>\n",
       "  </thead>\n",
       "  <tbody>\n",
       "    <tr>\n",
       "      <th>0</th>\n",
       "      <td>ResNet</td>\n",
       "      <td>threshold  exit  prediction  target  co...</td>\n",
       "    </tr>\n",
       "    <tr>\n",
       "      <th>1</th>\n",
       "      <td>DenseNet</td>\n",
       "      <td>threshold exit prediction target correct...</td>\n",
       "    </tr>\n",
       "  </tbody>\n",
       "</table>\n",
       "</div>"
      ],
      "text/plain": [
       "        idx                                                dfs\n",
       "0    ResNet         threshold  exit  prediction  target  co...\n",
       "1  DenseNet        threshold exit prediction target correct..."
      ]
     },
     "execution_count": 150,
     "metadata": {},
     "output_type": "execute_result"
    }
   ],
   "source": [
    "merged = pd.DataFrame({'idx': ['ResNet', 'DenseNet'], 'dfs':[ee_res, ee_dense]})\n",
    "merged"
   ]
  },
  {
   "cell_type": "code",
   "execution_count": 151,
   "metadata": {},
   "outputs": [
    {
     "data": {
      "text/plain": [
       "<matplotlib.axes._subplots.AxesSubplot at 0x7fbb206283c8>"
      ]
     },
     "execution_count": 151,
     "metadata": {},
     "output_type": "execute_result"
    },
    {
     "data": {
      "image/png": "[encoded data removed]",
      "text/plain": [
       "<Figure size 1152x648 with 1 Axes>"
      ]
     },
     "metadata": {},
     "output_type": "display_data"
    }
   ],
   "source": [
    "fig, axes = plt.subplots(1,1)\n",
    "sns.barplot(x=np.arange(0,4,1), y=ee_res.groupby('exit').size(), ax=axes)\n",
    "sns.barplot(x=np.arange(0,4,1), y=ee_dense.groupby('exit').size(), ax=axes)\n"
   ]
  },
  {
   "cell_type": "code",
   "execution_count": 279,
   "metadata": {},
   "outputs": [
    {
     "data": {
      "text/html": [
       "<div>\n",
       "<style scoped>\n",
       "    .dataframe tbody tr th:only-of-type {\n",
       "        vertical-align: middle;\n",
       "    }\n",
       "\n",
       "    .dataframe tbody tr th {\n",
       "        vertical-align: top;\n",
       "    }\n",
       "\n",
       "    .dataframe thead th {\n",
       "        text-align: right;\n",
       "    }\n",
       "</style>\n",
       "<table border=\"1\" class=\"dataframe\">\n",
       "  <thead>\n",
       "    <tr style=\"text-align: right;\">\n",
       "      <th></th>\n",
       "      <th></th>\n",
       "      <th>ResNet</th>\n",
       "      <th>DenseNet</th>\n",
       "    </tr>\n",
       "    <tr>\n",
       "      <th>threshold</th>\n",
       "      <th>exit</th>\n",
       "      <th></th>\n",
       "      <th></th>\n",
       "    </tr>\n",
       "  </thead>\n",
       "  <tbody>\n",
       "    <tr>\n",
       "      <th rowspan=\"4\" valign=\"top\">0.1</th>\n",
       "      <th>0</th>\n",
       "      <td>0.6594</td>\n",
       "      <td>0.7392</td>\n",
       "    </tr>\n",
       "    <tr>\n",
       "      <th>1</th>\n",
       "      <td>0.2504</td>\n",
       "      <td>0.2250</td>\n",
       "    </tr>\n",
       "    <tr>\n",
       "      <th>2</th>\n",
       "      <td>0.0848</td>\n",
       "      <td>0.0324</td>\n",
       "    </tr>\n",
       "    <tr>\n",
       "      <th>3</th>\n",
       "      <td>0.0052</td>\n",
       "      <td>0.0032</td>\n",
       "    </tr>\n",
       "    <tr>\n",
       "      <th rowspan=\"4\" valign=\"top\">0.2</th>\n",
       "      <th>0</th>\n",
       "      <td>0.4912</td>\n",
       "      <td>0.5888</td>\n",
       "    </tr>\n",
       "    <tr>\n",
       "      <th>1</th>\n",
       "      <td>0.3168</td>\n",
       "      <td>0.3262</td>\n",
       "    </tr>\n",
       "    <tr>\n",
       "      <th>2</th>\n",
       "      <td>0.1750</td>\n",
       "      <td>0.0716</td>\n",
       "    </tr>\n",
       "    <tr>\n",
       "      <th>3</th>\n",
       "      <td>0.0170</td>\n",
       "      <td>0.0134</td>\n",
       "    </tr>\n",
       "    <tr>\n",
       "      <th rowspan=\"4\" valign=\"top\">0.3</th>\n",
       "      <th>0</th>\n",
       "      <td>0.3880</td>\n",
       "      <td>0.4912</td>\n",
       "    </tr>\n",
       "    <tr>\n",
       "      <th>1</th>\n",
       "      <td>0.3408</td>\n",
       "      <td>0.3690</td>\n",
       "    </tr>\n",
       "    <tr>\n",
       "      <th>2</th>\n",
       "      <td>0.2368</td>\n",
       "      <td>0.1066</td>\n",
       "    </tr>\n",
       "    <tr>\n",
       "      <th>3</th>\n",
       "      <td>0.0344</td>\n",
       "      <td>0.0332</td>\n",
       "    </tr>\n",
       "    <tr>\n",
       "      <th rowspan=\"4\" valign=\"top\">0.4</th>\n",
       "      <th>0</th>\n",
       "      <td>0.3142</td>\n",
       "      <td>0.4130</td>\n",
       "    </tr>\n",
       "    <tr>\n",
       "      <th>1</th>\n",
       "      <td>0.3434</td>\n",
       "      <td>0.3950</td>\n",
       "    </tr>\n",
       "    <tr>\n",
       "      <th>2</th>\n",
       "      <td>0.2896</td>\n",
       "      <td>0.1380</td>\n",
       "    </tr>\n",
       "    <tr>\n",
       "      <th>3</th>\n",
       "      <td>0.0528</td>\n",
       "      <td>0.0540</td>\n",
       "    </tr>\n",
       "    <tr>\n",
       "      <th rowspan=\"4\" valign=\"top\">0.5</th>\n",
       "      <th>0</th>\n",
       "      <td>0.2570</td>\n",
       "      <td>0.3452</td>\n",
       "    </tr>\n",
       "    <tr>\n",
       "      <th>1</th>\n",
       "      <td>0.3416</td>\n",
       "      <td>0.4144</td>\n",
       "    </tr>\n",
       "    <tr>\n",
       "      <th>2</th>\n",
       "      <td>0.3306</td>\n",
       "      <td>0.1626</td>\n",
       "    </tr>\n",
       "    <tr>\n",
       "      <th>3</th>\n",
       "      <td>0.0708</td>\n",
       "      <td>0.0778</td>\n",
       "    </tr>\n",
       "    <tr>\n",
       "      <th rowspan=\"4\" valign=\"top\">0.6</th>\n",
       "      <th>0</th>\n",
       "      <td>0.2058</td>\n",
       "      <td>0.2836</td>\n",
       "    </tr>\n",
       "    <tr>\n",
       "      <th>1</th>\n",
       "      <td>0.3346</td>\n",
       "      <td>0.4298</td>\n",
       "    </tr>\n",
       "    <tr>\n",
       "      <th>2</th>\n",
       "      <td>0.3706</td>\n",
       "      <td>0.1798</td>\n",
       "    </tr>\n",
       "    <tr>\n",
       "      <th>3</th>\n",
       "      <td>0.0890</td>\n",
       "      <td>0.1068</td>\n",
       "    </tr>\n",
       "    <tr>\n",
       "      <th rowspan=\"4\" valign=\"top\">0.7</th>\n",
       "      <th>0</th>\n",
       "      <td>0.1656</td>\n",
       "      <td>0.2358</td>\n",
       "    </tr>\n",
       "    <tr>\n",
       "      <th>1</th>\n",
       "      <td>0.3164</td>\n",
       "      <td>0.4344</td>\n",
       "    </tr>\n",
       "    <tr>\n",
       "      <th>2</th>\n",
       "      <td>0.4078</td>\n",
       "      <td>0.1956</td>\n",
       "    </tr>\n",
       "    <tr>\n",
       "      <th>3</th>\n",
       "      <td>0.1102</td>\n",
       "      <td>0.1342</td>\n",
       "    </tr>\n",
       "    <tr>\n",
       "      <th rowspan=\"4\" valign=\"top\">0.8</th>\n",
       "      <th>0</th>\n",
       "      <td>0.1230</td>\n",
       "      <td>0.1842</td>\n",
       "    </tr>\n",
       "    <tr>\n",
       "      <th>1</th>\n",
       "      <td>0.2978</td>\n",
       "      <td>0.4294</td>\n",
       "    </tr>\n",
       "    <tr>\n",
       "      <th>2</th>\n",
       "      <td>0.4440</td>\n",
       "      <td>0.2148</td>\n",
       "    </tr>\n",
       "    <tr>\n",
       "      <th>3</th>\n",
       "      <td>0.1352</td>\n",
       "      <td>0.1716</td>\n",
       "    </tr>\n",
       "    <tr>\n",
       "      <th rowspan=\"4\" valign=\"top\">0.9</th>\n",
       "      <th>0</th>\n",
       "      <td>0.0736</td>\n",
       "      <td>0.1230</td>\n",
       "    </tr>\n",
       "    <tr>\n",
       "      <th>1</th>\n",
       "      <td>0.2604</td>\n",
       "      <td>0.4076</td>\n",
       "    </tr>\n",
       "    <tr>\n",
       "      <th>2</th>\n",
       "      <td>0.4880</td>\n",
       "      <td>0.2442</td>\n",
       "    </tr>\n",
       "    <tr>\n",
       "      <th>3</th>\n",
       "      <td>0.1780</td>\n",
       "      <td>0.2252</td>\n",
       "    </tr>\n",
       "  </tbody>\n",
       "</table>\n",
       "</div>"
      ],
      "text/plain": [
       "                ResNet  DenseNet\n",
       "threshold exit                  \n",
       "0.1       0     0.6594    0.7392\n",
       "          1     0.2504    0.2250\n",
       "          2     0.0848    0.0324\n",
       "          3     0.0052    0.0032\n",
       "0.2       0     0.4912    0.5888\n",
       "          1     0.3168    0.3262\n",
       "          2     0.1750    0.0716\n",
       "          3     0.0170    0.0134\n",
       "0.3       0     0.3880    0.4912\n",
       "          1     0.3408    0.3690\n",
       "          2     0.2368    0.1066\n",
       "          3     0.0344    0.0332\n",
       "0.4       0     0.3142    0.4130\n",
       "          1     0.3434    0.3950\n",
       "          2     0.2896    0.1380\n",
       "          3     0.0528    0.0540\n",
       "0.5       0     0.2570    0.3452\n",
       "          1     0.3416    0.4144\n",
       "          2     0.3306    0.1626\n",
       "          3     0.0708    0.0778\n",
       "0.6       0     0.2058    0.2836\n",
       "          1     0.3346    0.4298\n",
       "          2     0.3706    0.1798\n",
       "          3     0.0890    0.1068\n",
       "0.7       0     0.1656    0.2358\n",
       "          1     0.3164    0.4344\n",
       "          2     0.4078    0.1956\n",
       "          3     0.1102    0.1342\n",
       "0.8       0     0.1230    0.1842\n",
       "          1     0.2978    0.4294\n",
       "          2     0.4440    0.2148\n",
       "          3     0.1352    0.1716\n",
       "0.9       0     0.0736    0.1230\n",
       "          1     0.2604    0.4076\n",
       "          2     0.4880    0.2442\n",
       "          3     0.1780    0.2252"
      ]
     },
     "execution_count": 279,
     "metadata": {},
     "output_type": "execute_result"
    }
   ],
   "source": [
    "ee_res.exit= ee_res.exit.astype('int')\n",
    "d = { 'ResNet': ee_res.groupby(['threshold', 'exit']).size(),\n",
    "     'DenseNet': ee_dense.groupby(['threshold', 'exit']).size() }\n",
    "df = pd.DataFrame(d)\n",
    "\n",
    "df = df / 5000\n",
    "df"
   ]
  },
  {
   "cell_type": "code",
   "execution_count": 277,
   "metadata": {},
   "outputs": [
    {
     "data": {
      "text/plain": [
       "Text(0, 0.5, '% of samples exited')"
      ]
     },
     "execution_count": 277,
     "metadata": {},
     "output_type": "execute_result"
    },
    {
     "data": {
      "image/png": "[encoded data removed]",
      "text/plain": [
       "<Figure size 1152x648 with 1 Axes>"
      ]
     },
     "metadata": {},
     "output_type": "display_data"
    }
   ],
   "source": [
    "ax = df.plot(kind='bar')\n",
    "ax.set_ylabel('% of samples exited')"
   ]
  },
  {
   "cell_type": "code",
   "execution_count": 280,
   "metadata": {},
   "outputs": [
    {
     "data": {
      "text/plain": [
       "<matplotlib.legend.Legend at 0x7fbb1526be48>"
      ]
     },
     "execution_count": 280,
     "metadata": {},
     "output_type": "execute_result"
    },
    {
     "data": {
      "image/png": "[encoded data removed]",
      "text/plain": [
       "<Figure size 1152x648 with 9 Axes>"
      ]
     },
     "metadata": {},
     "output_type": "display_data"
    }
   ],
   "source": [
    "fig, axes = plt.subplots(3,3, sharex=True, sharey=True)\n",
    "for i, data in zip(axes.flat, df.groupby('threshold')):\n",
    "    i.set_title('Threshold {:0.1f}'.format(data[0]))\n",
    "    data[1].plot(kind='bar', ax=i, legend=False)\n",
    "    i.label_outer()\n",
    "    #i.xtickslabels([1, 2, 3, 4])\n",
    "    i.set(xlabel='Exit', ylabel='Ratio', xticks=[0,1,2,3])\n",
    "    i.set_xticklabels([0,1,2,3])\n",
    "    \n",
    "    for tick in i.get_xticklabels():\n",
    "        tick.set_rotation(0)\n",
    "    \n",
    "fig.legend(['ResNet', 'DenseNet'], ncol=2, loc='upper center')\n",
    "\n"
   ]
  }
 ],
 "metadata": {
  "kernelspec": {
   "display_name": "Python 3",
   "language": "python",
   "name": "python3"
  },
  "language_info": {
   "codemirror_mode": {
    "name": "ipython",
    "version": 3
   },
   "file_extension": ".py",
   "mimetype": "text/x-python",
   "name": "python",
   "nbconvert_exporter": "python",
   "pygments_lexer": "ipython3",
   "version": "3.7.3"
  }
 },
 "nbformat": 4,
 "nbformat_minor": 2
}
