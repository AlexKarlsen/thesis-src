{
 "cells": [
  {
   "cell_type": "markdown",
   "metadata": {
    "slideshow": {
     "slide_type": "slide"
    }
   },
   "source": [
    "# Train Validation Visualization\n",
    "\n",
    "This notebook takes a .csv file from a DDNN train log. The .csv file is loaded into pandas dataframe and visualized using seaborn and matplotlib  "
   ]
  },
  {
   "cell_type": "markdown",
   "metadata": {},
   "source": [
    "## The setup\n",
    "\n",
    "This setup has 5 MobileNetV2 device models pretrained on ImageNet and a ResNet152 edge model not pretrained. The device models feature extraction base are forzen, hence only the classifier is trained. All layers of the edge model is trained.\n",
    "\n",
    "## Conclusion\n",
    "\n",
    "Even with heavy image augmentation the Pascal VOC is too sparse a data set to properly train the ResNet edge model, that clearly overfits to the training data. \n",
    "\n",
    "Next, (1) pretrained imagenet weight for edge model, (2) even heavier augmentation, (3) training on a dense dataset e.g. imagenet first. "
   ]
  },
  {
   "cell_type": "code",
   "execution_count": 2,
   "metadata": {
    "slideshow": {
     "slide_type": "slide"
    }
   },
   "outputs": [],
   "source": [
    "import pandas as pd\n",
    "import seaborn as sns; sns.set()\n",
    "import matplotlib.pyplot as plt\n",
    "plt.rcParams.update({'font.size': 18})"
   ]
  },
  {
   "cell_type": "code",
   "execution_count": 50,
   "metadata": {
    "slideshow": {
     "slide_type": "slide"
    }
   },
   "outputs": [
    {
     "data": {
      "text/html": [
       "<div>\n",
       "<style scoped>\n",
       "    .dataframe tbody tr th:only-of-type {\n",
       "        vertical-align: middle;\n",
       "    }\n",
       "\n",
       "    .dataframe tbody tr th {\n",
       "        vertical-align: top;\n",
       "    }\n",
       "\n",
       "    .dataframe thead th {\n",
       "        text-align: right;\n",
       "    }\n",
       "</style>\n",
       "<table border=\"1\" class=\"dataframe\">\n",
       "  <thead>\n",
       "    <tr style=\"text-align: right;\">\n",
       "      <th></th>\n",
       "      <th></th>\n",
       "      <th>Unnamed: 0</th>\n",
       "      <th>exit-0-train-loss</th>\n",
       "      <th>exit-1-train-loss</th>\n",
       "      <th>exit-2-train-loss</th>\n",
       "      <th>exit-3-train-loss</th>\n",
       "      <th>exit-0-train-accuracy</th>\n",
       "      <th>exit-1-train-accuracy</th>\n",
       "      <th>exit-2-train-accuracy</th>\n",
       "      <th>exit-3-train-accuracy</th>\n",
       "      <th>exit-0-test-loss</th>\n",
       "      <th>exit-1-test-loss</th>\n",
       "      <th>exit-2-test-loss</th>\n",
       "      <th>exit-3-test-loss</th>\n",
       "      <th>exit-0-test-accuracy</th>\n",
       "      <th>exit-1-test-accuracy</th>\n",
       "      <th>exit-2-test-accuracy</th>\n",
       "      <th>exit-3-test-accuracy</th>\n",
       "    </tr>\n",
       "  </thead>\n",
       "  <tbody>\n",
       "    <tr>\n",
       "      <th>0</th>\n",
       "      <th>2.262478</th>\n",
       "      <td>2.258694</td>\n",
       "      <td>2.235238</td>\n",
       "      <td>0.333332</td>\n",
       "      <td>0.166640</td>\n",
       "      <td>0.201657</td>\n",
       "      <td>0.354566</td>\n",
       "      <td>0.906321</td>\n",
       "      <td>138.036617</td>\n",
       "      <td>2.231655</td>\n",
       "      <td>2.212907</td>\n",
       "      <td>2.112865</td>\n",
       "      <td>0.052137</td>\n",
       "      <td>0.278</td>\n",
       "      <td>0.356</td>\n",
       "      <td>0.594</td>\n",
       "      <td>0.976</td>\n",
       "      <td>8.605449</td>\n",
       "    </tr>\n",
       "    <tr>\n",
       "      <th>1</th>\n",
       "      <th>2.177655</th>\n",
       "      <td>2.131214</td>\n",
       "      <td>1.814668</td>\n",
       "      <td>0.214797</td>\n",
       "      <td>0.253656</td>\n",
       "      <td>0.320523</td>\n",
       "      <td>0.530468</td>\n",
       "      <td>0.931508</td>\n",
       "      <td>140.355039</td>\n",
       "      <td>2.113302</td>\n",
       "      <td>1.990986</td>\n",
       "      <td>1.237425</td>\n",
       "      <td>0.097122</td>\n",
       "      <td>0.308</td>\n",
       "      <td>0.344</td>\n",
       "      <td>0.622</td>\n",
       "      <td>0.966</td>\n",
       "      <td>9.084436</td>\n",
       "    </tr>\n",
       "    <tr>\n",
       "      <th>2</th>\n",
       "      <th>2.087281</th>\n",
       "      <td>1.938443</td>\n",
       "      <td>1.158304</td>\n",
       "      <td>0.213739</td>\n",
       "      <td>0.279981</td>\n",
       "      <td>0.361310</td>\n",
       "      <td>0.670783</td>\n",
       "      <td>0.930858</td>\n",
       "      <td>142.444795</td>\n",
       "      <td>1.998169</td>\n",
       "      <td>1.772234</td>\n",
       "      <td>0.749501</td>\n",
       "      <td>0.097881</td>\n",
       "      <td>0.342</td>\n",
       "      <td>0.386</td>\n",
       "      <td>0.824</td>\n",
       "      <td>0.972</td>\n",
       "      <td>8.753238</td>\n",
       "    </tr>\n",
       "    <tr>\n",
       "      <th>3</th>\n",
       "      <th>1.985581</th>\n",
       "      <td>1.747525</td>\n",
       "      <td>0.784727</td>\n",
       "      <td>0.179816</td>\n",
       "      <td>0.319548</td>\n",
       "      <td>0.415421</td>\n",
       "      <td>0.780224</td>\n",
       "      <td>0.940526</td>\n",
       "      <td>138.679265</td>\n",
       "      <td>1.868245</td>\n",
       "      <td>1.554772</td>\n",
       "      <td>0.496544</td>\n",
       "      <td>0.103083</td>\n",
       "      <td>0.356</td>\n",
       "      <td>0.446</td>\n",
       "      <td>0.874</td>\n",
       "      <td>0.968</td>\n",
       "      <td>9.219148</td>\n",
       "    </tr>\n",
       "    <tr>\n",
       "      <th>4</th>\n",
       "      <th>1.893272</th>\n",
       "      <td>1.597672</td>\n",
       "      <td>0.594316</td>\n",
       "      <td>0.169281</td>\n",
       "      <td>0.351479</td>\n",
       "      <td>0.457507</td>\n",
       "      <td>0.836529</td>\n",
       "      <td>0.945564</td>\n",
       "      <td>143.242798</td>\n",
       "      <td>1.747862</td>\n",
       "      <td>1.366996</td>\n",
       "      <td>0.382072</td>\n",
       "      <td>0.130407</td>\n",
       "      <td>0.368</td>\n",
       "      <td>0.522</td>\n",
       "      <td>0.910</td>\n",
       "      <td>0.960</td>\n",
       "      <td>9.152348</td>\n",
       "    </tr>\n",
       "  </tbody>\n",
       "</table>\n",
       "</div>"
      ],
      "text/plain": [
       "            Unnamed: 0  exit-0-train-loss  exit-1-train-loss  \\\n",
       "0 2.262478    2.258694           2.235238           0.333332   \n",
       "1 2.177655    2.131214           1.814668           0.214797   \n",
       "2 2.087281    1.938443           1.158304           0.213739   \n",
       "3 1.985581    1.747525           0.784727           0.179816   \n",
       "4 1.893272    1.597672           0.594316           0.169281   \n",
       "\n",
       "            exit-2-train-loss  exit-3-train-loss  exit-0-train-accuracy  \\\n",
       "0 2.262478           0.166640           0.201657               0.354566   \n",
       "1 2.177655           0.253656           0.320523               0.530468   \n",
       "2 2.087281           0.279981           0.361310               0.670783   \n",
       "3 1.985581           0.319548           0.415421               0.780224   \n",
       "4 1.893272           0.351479           0.457507               0.836529   \n",
       "\n",
       "            exit-1-train-accuracy  exit-2-train-accuracy  \\\n",
       "0 2.262478               0.906321             138.036617   \n",
       "1 2.177655               0.931508             140.355039   \n",
       "2 2.087281               0.930858             142.444795   \n",
       "3 1.985581               0.940526             138.679265   \n",
       "4 1.893272               0.945564             143.242798   \n",
       "\n",
       "            exit-3-train-accuracy  exit-0-test-loss  exit-1-test-loss  \\\n",
       "0 2.262478               2.231655          2.212907          2.112865   \n",
       "1 2.177655               2.113302          1.990986          1.237425   \n",
       "2 2.087281               1.998169          1.772234          0.749501   \n",
       "3 1.985581               1.868245          1.554772          0.496544   \n",
       "4 1.893272               1.747862          1.366996          0.382072   \n",
       "\n",
       "            exit-2-test-loss  exit-3-test-loss  exit-0-test-accuracy  \\\n",
       "0 2.262478          0.052137             0.278                 0.356   \n",
       "1 2.177655          0.097122             0.308                 0.344   \n",
       "2 2.087281          0.097881             0.342                 0.386   \n",
       "3 1.985581          0.103083             0.356                 0.446   \n",
       "4 1.893272          0.130407             0.368                 0.522   \n",
       "\n",
       "            exit-1-test-accuracy  exit-2-test-accuracy  exit-3-test-accuracy  \n",
       "0 2.262478                 0.594                 0.976              8.605449  \n",
       "1 2.177655                 0.622                 0.966              9.084436  \n",
       "2 2.087281                 0.824                 0.972              8.753238  \n",
       "3 1.985581                 0.874                 0.968              9.219148  \n",
       "4 1.893272                 0.910                 0.960              9.152348  "
      ]
     },
     "execution_count": 50,
     "metadata": {},
     "output_type": "execute_result"
    }
   ],
   "source": [
    "df = pd.read_csv('../DDNN/logging/train_data_branchy.csv')\n",
    "df.head()"
   ]
  },
  {
   "cell_type": "code",
   "execution_count": 19,
   "metadata": {
    "slideshow": {
     "slide_type": "slide"
    }
   },
   "outputs": [],
   "source": [
    "#palette = sns.color_palette(\"mako_r\", 6)\n",
    "legend = [\n",
    "    'exit-0', \n",
    "    'exit-1', \n",
    "    'exit-2',\n",
    "    'exit-3'\n",
    "]\n",
    "train_loss = [\n",
    "    df['exit-0-train-loss'], \n",
    "    df['exit-1-train-loss'],\n",
    "    df['exit-2-train-loss'],\n",
    "    df['exit-3-train-loss']\n",
    "]\n",
    "train_acc = [\n",
    "    df['exit-0-train-accuracy'], \n",
    "    df['exit-1-train-accuracy'],\n",
    "    df['exit-2-train-accuracy'],\n",
    "    df['exit-3-train-accuracy']\n",
    "]\n",
    "test_loss = [\n",
    "    df['exit-0-test-loss'], \n",
    "    df['exit-1-test-loss'],\n",
    "    df['exit-2-test-loss'],\n",
    "    df['exit-3-test-loss']\n",
    "]\n",
    "test_acc = [\n",
    "    df['exit-0-test-accuracy'], \n",
    "    df['exit-1-test-accuracy'],\n",
    "    df['exit-2-test-accuracy'],\n",
    "    df['exit-3-test-accuracy']\n",
    "]\n",
    "train_time = [\n",
    "    df['exit-0-train-time'], \n",
    "    df['exit-1-train-time'],\n",
    "    df['exit-2-train-time'],\n",
    "    df['exit-3-train-time']\n",
    "]\n",
    "test_time = [\n",
    "    df['exit-0-test-time'], \n",
    "    df['exit-1-test-time'],\n",
    "    df['exit-2-test-time'],\n",
    "    df['exit-3-test-time']\n",
    "]"
   ]
  },
  {
   "cell_type": "code",
   "execution_count": 14,
   "metadata": {
    "slideshow": {
     "slide_type": "slide"
    }
   },
   "outputs": [
    {
     "data": {
      "image/png": "[encoded data removed]",
      "text/plain": [
       "<Figure size 1152x648 with 1 Axes>"
      ]
     },
     "metadata": {
      "needs_background": "light"
     },
     "output_type": "display_data"
    }
   ],
   "source": [
    "fig = plt.figure(figsize=(16,9))\n",
    "ax = sns.lineplot(data=train_loss,\n",
    "                  palette=\"ch:2.5,.25\", \n",
    "                  dashes=False)\n",
    "\n",
    "\n",
    "#ax.set(xlabel='epochs', ylabel='loss')\n",
    "plt.xlabel('epochs', fontsize='large')\n",
    "plt.ylabel('loss', fontsize='large')\n",
    "plt.tick_params(labelsize='medium')\n",
    "plt.legend(legend, fontsize='small')\n",
    "plt.xlim([-5, 201])\n",
    "plt.ylim([-0.1, 3])\n",
    "plt.tight_layout()\n",
    "plt.savefig('BResNet_train_loss_VOC.png')\n",
    "plt.show()"
   ]
  },
  {
   "cell_type": "code",
   "execution_count": 15,
   "metadata": {
    "slideshow": {
     "slide_type": "slide"
    }
   },
   "outputs": [
    {
     "data": {
      "image/png": "[encoded data removed]",
      "text/plain": [
       "<Figure size 1152x648 with 1 Axes>"
      ]
     },
     "metadata": {
      "needs_background": "light"
     },
     "output_type": "display_data"
    }
   ],
   "source": [
    "fig = plt.figure(figsize=(16,9))\n",
    "ax = sns.lineplot(data=train_acc,\n",
    "                  palette=\"ch:2.5,.25\", \n",
    "                  dashes=False)\n",
    "\n",
    "\n",
    "plt.xlabel('epochs', fontsize='large')\n",
    "plt.ylabel('accuracy', fontsize='large')\n",
    "plt.tick_params(labelsize='medium')\n",
    "plt.legend(legend, fontsize='small', loc='lower right')\n",
    "plt.xlim([-1, 201])\n",
    "plt.ylim([0, 1.05])\n",
    "#plt.title('Train accuracy')\n",
    "plt.tight_layout()\n",
    "plt.savefig('BResNet_train_acc_VOC.png')\n",
    "plt.show()"
   ]
  },
  {
   "cell_type": "code",
   "execution_count": 16,
   "metadata": {
    "slideshow": {
     "slide_type": "slide"
    }
   },
   "outputs": [
    {
     "data": {
      "image/png": "[encoded data removed]",
      "text/plain": [
       "<Figure size 1152x648 with 1 Axes>"
      ]
     },
     "metadata": {
      "needs_background": "light"
     },
     "output_type": "display_data"
    }
   ],
   "source": [
    "fig = plt.figure(figsize=(16,9))\n",
    "ax = sns.lineplot(data=test_loss, \n",
    "                  palette=\"ch:2.5,.25\", \n",
    "                  dashes=False)\n",
    "\n",
    "\n",
    "plt.xlabel('epochs', fontsize='large')\n",
    "plt.ylabel('loss', fontsize='large')\n",
    "plt.tick_params(labelsize='medium')\n",
    "plt.legend(legend, fontsize='small')\n",
    "plt.xlim([-5, 201])\n",
    "plt.ylim([-0.1, 3])\n",
    "#plt.title('Test loss')\n",
    "plt.tight_layout()\n",
    "plt.savefig('BResNet_test_loss_VOC.png')\n",
    "plt.show()"
   ]
  },
  {
   "cell_type": "code",
   "execution_count": 17,
   "metadata": {
    "slideshow": {
     "slide_type": "slide"
    }
   },
   "outputs": [
    {
     "data": {
      "image/png": "[encoded data removed]",
      "text/plain": [
       "<Figure size 1152x648 with 1 Axes>"
      ]
     },
     "metadata": {
      "needs_background": "light"
     },
     "output_type": "display_data"
    }
   ],
   "source": [
    "fig = plt.figure(figsize=(16,9))\n",
    "ax = sns.lineplot(data=test_acc, \n",
    "                  palette=\"ch:2.5,.25\", \n",
    "                  dashes=False)\n",
    "\n",
    "\n",
    "plt.xlabel('epochs', fontsize='large')\n",
    "plt.ylabel('accuracy', fontsize='large')\n",
    "plt.tick_params(labelsize='medium')\n",
    "plt.legend(legend, fontsize='small', loc='lower right')\n",
    "plt.xlim([-1, 201])\n",
    "plt.ylim([0, 1.05])\n",
    "#plt.title('Test accuracy')\n",
    "plt.tight_layout()\n",
    "plt.savefig('BResNet_test_acc_VOC.png')\n",
    "plt.show()"
   ]
  },
  {
   "cell_type": "code",
   "execution_count": 39,
   "metadata": {},
   "outputs": [
    {
     "data": {
      "image/png": "[encoded data removed]",
      "text/plain": [
       "<Figure size 1152x648 with 1 Axes>"
      ]
     },
     "metadata": {
      "needs_background": "light"
     },
     "output_type": "display_data"
    }
   ],
   "source": [
    "fig = plt.figure(figsize=(16,9))\n",
    "sns.distplot(train_time[0])\n",
    "#sns.distplot(train_time[1])\n",
    "#ax1 = sns.lineplot(test_time)\n",
    "#ax.set(xlabel='epochs', ylabel='loss')\n",
    "plt.legend(legend)\n",
    "plt.title('Train-Test loss')\n",
    "plt.show()"
   ]
  },
  {
   "cell_type": "code",
   "execution_count": null,
   "metadata": {},
   "outputs": [],
   "source": []
  }
 ],
 "metadata": {
  "celltoolbar": "Slideshow",
  "kernelspec": {
   "display_name": "Python 3",
   "language": "python",
   "name": "python3"
  },
  "language_info": {
   "codemirror_mode": {
    "name": "ipython",
    "version": 3
   },
   "file_extension": ".py",
   "mimetype": "text/x-python",
   "name": "python",
   "nbconvert_exporter": "python",
   "pygments_lexer": "ipython3",
   "version": "3.7.3"
  }
 },
 "nbformat": 4,
 "nbformat_minor": 2
}
